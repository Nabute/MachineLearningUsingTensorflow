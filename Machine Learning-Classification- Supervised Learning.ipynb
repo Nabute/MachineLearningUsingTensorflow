{
 "cells": [
  {
   "cell_type": "markdown",
   "metadata": {},
   "source": [
    "# IRIS Flower Data set\n",
    "\n"
   ]
  },
  {
   "cell_type": "markdown",
   "metadata": {},
   "source": [
    "###### The Iris flower data set is a multivariate data set introduced by the British Statistician and Biologist Ronald Fisher in his 19936 paper."
   ]
  },
  {
   "cell_type": "markdown",
   "metadata": {},
   "source": [
    "The dataset contains a set of 150 records under 5 attributes:\n",
    "\n",
    "* Petal Length  (numeric or continuous)\n",
    "* Petal Width  (numeric or continuous)\n",
    "* Sepal Length  (numeric or continuous)\n",
    "* Sepal Width  (numeric or continuous)\n",
    "* Class (The label) ( catagorical)"
   ]
  },
  {
   "cell_type": "markdown",
   "metadata": {},
   "source": [
    "For Further Reading refer https://en.m.wikipedia.org/wiki/Iris_flower_data_set"
   ]
  },
  {
   "cell_type": "markdown",
   "metadata": {},
   "source": [
    "#### Importing Necessary Modules"
   ]
  },
  {
   "cell_type": "code",
   "execution_count": 1,
   "metadata": {
    "collapsed": true
   },
   "outputs": [],
   "source": [
    "import tensorflow as tf\n",
    "import pandas as pd"
   ]
  },
  {
   "cell_type": "markdown",
   "metadata": {},
   "source": [
    "#### Reading data"
   ]
  },
  {
   "cell_type": "code",
   "execution_count": 2,
   "metadata": {
    "collapsed": true
   },
   "outputs": [],
   "source": [
    "iris = pd.read_csv(\"iris.csv\")"
   ]
  },
  {
   "cell_type": "code",
   "execution_count": 3,
   "metadata": {
    "collapsed": false
   },
   "outputs": [
    {
     "data": {
      "text/plain": [
       "(150, 5)"
      ]
     },
     "execution_count": 3,
     "metadata": {},
     "output_type": "execute_result"
    }
   ],
   "source": [
    "# Displaying the shape of the data \n",
    "iris.shape"
   ]
  },
  {
   "cell_type": "code",
   "execution_count": 15,
   "metadata": {
    "collapsed": false
   },
   "outputs": [
    {
     "data": {
      "text/html": [
       "<div>\n",
       "<table border=\"1\" class=\"dataframe\">\n",
       "  <thead>\n",
       "    <tr style=\"text-align: right;\">\n",
       "      <th></th>\n",
       "      <th>sepal_length</th>\n",
       "      <th>sepal_width</th>\n",
       "      <th>petal_length</th>\n",
       "      <th>petal_width</th>\n",
       "      <th>species</th>\n",
       "    </tr>\n",
       "  </thead>\n",
       "  <tbody>\n",
       "    <tr>\n",
       "      <th>0</th>\n",
       "      <td>5.1</td>\n",
       "      <td>3.5</td>\n",
       "      <td>1.4</td>\n",
       "      <td>0.2</td>\n",
       "      <td>setosa</td>\n",
       "    </tr>\n",
       "    <tr>\n",
       "      <th>1</th>\n",
       "      <td>4.9</td>\n",
       "      <td>3.0</td>\n",
       "      <td>1.4</td>\n",
       "      <td>0.2</td>\n",
       "      <td>setosa</td>\n",
       "    </tr>\n",
       "    <tr>\n",
       "      <th>2</th>\n",
       "      <td>4.7</td>\n",
       "      <td>3.2</td>\n",
       "      <td>1.3</td>\n",
       "      <td>0.2</td>\n",
       "      <td>setosa</td>\n",
       "    </tr>\n",
       "    <tr>\n",
       "      <th>3</th>\n",
       "      <td>4.6</td>\n",
       "      <td>3.1</td>\n",
       "      <td>1.5</td>\n",
       "      <td>0.2</td>\n",
       "      <td>setosa</td>\n",
       "    </tr>\n",
       "    <tr>\n",
       "      <th>4</th>\n",
       "      <td>5.0</td>\n",
       "      <td>3.6</td>\n",
       "      <td>1.4</td>\n",
       "      <td>0.2</td>\n",
       "      <td>setosa</td>\n",
       "    </tr>\n",
       "  </tbody>\n",
       "</table>\n",
       "</div>"
      ],
      "text/plain": [
       "   sepal_length  sepal_width  petal_length  petal_width species\n",
       "0           5.1          3.5           1.4          0.2  setosa\n",
       "1           4.9          3.0           1.4          0.2  setosa\n",
       "2           4.7          3.2           1.3          0.2  setosa\n",
       "3           4.6          3.1           1.5          0.2  setosa\n",
       "4           5.0          3.6           1.4          0.2  setosa"
      ]
     },
     "execution_count": 15,
     "metadata": {},
     "output_type": "execute_result"
    }
   ],
   "source": [
    "# Displaying the first 5 Rows of the dataset\n",
    "iris.head()"
   ]
  },
  {
   "cell_type": "code",
   "execution_count": 5,
   "metadata": {
    "collapsed": false
   },
   "outputs": [
    {
     "data": {
      "text/html": [
       "<div>\n",
       "<table border=\"1\" class=\"dataframe\">\n",
       "  <thead>\n",
       "    <tr style=\"text-align: right;\">\n",
       "      <th></th>\n",
       "      <th>sepal_length</th>\n",
       "      <th>sepal_width</th>\n",
       "      <th>petal_length</th>\n",
       "      <th>petal_width</th>\n",
       "    </tr>\n",
       "  </thead>\n",
       "  <tbody>\n",
       "    <tr>\n",
       "      <th>count</th>\n",
       "      <td>150.000000</td>\n",
       "      <td>150.000000</td>\n",
       "      <td>150.000000</td>\n",
       "      <td>150.000000</td>\n",
       "    </tr>\n",
       "    <tr>\n",
       "      <th>mean</th>\n",
       "      <td>5.843333</td>\n",
       "      <td>3.057333</td>\n",
       "      <td>3.758000</td>\n",
       "      <td>1.199333</td>\n",
       "    </tr>\n",
       "    <tr>\n",
       "      <th>std</th>\n",
       "      <td>0.828066</td>\n",
       "      <td>0.435866</td>\n",
       "      <td>1.765298</td>\n",
       "      <td>0.762238</td>\n",
       "    </tr>\n",
       "    <tr>\n",
       "      <th>min</th>\n",
       "      <td>4.300000</td>\n",
       "      <td>2.000000</td>\n",
       "      <td>1.000000</td>\n",
       "      <td>0.100000</td>\n",
       "    </tr>\n",
       "    <tr>\n",
       "      <th>25%</th>\n",
       "      <td>5.100000</td>\n",
       "      <td>2.800000</td>\n",
       "      <td>1.600000</td>\n",
       "      <td>0.300000</td>\n",
       "    </tr>\n",
       "    <tr>\n",
       "      <th>50%</th>\n",
       "      <td>5.800000</td>\n",
       "      <td>3.000000</td>\n",
       "      <td>4.350000</td>\n",
       "      <td>1.300000</td>\n",
       "    </tr>\n",
       "    <tr>\n",
       "      <th>75%</th>\n",
       "      <td>6.400000</td>\n",
       "      <td>3.300000</td>\n",
       "      <td>5.100000</td>\n",
       "      <td>1.800000</td>\n",
       "    </tr>\n",
       "    <tr>\n",
       "      <th>max</th>\n",
       "      <td>7.900000</td>\n",
       "      <td>4.400000</td>\n",
       "      <td>6.900000</td>\n",
       "      <td>2.500000</td>\n",
       "    </tr>\n",
       "  </tbody>\n",
       "</table>\n",
       "</div>"
      ],
      "text/plain": [
       "       sepal_length  sepal_width  petal_length  petal_width\n",
       "count    150.000000   150.000000    150.000000   150.000000\n",
       "mean       5.843333     3.057333      3.758000     1.199333\n",
       "std        0.828066     0.435866      1.765298     0.762238\n",
       "min        4.300000     2.000000      1.000000     0.100000\n",
       "25%        5.100000     2.800000      1.600000     0.300000\n",
       "50%        5.800000     3.000000      4.350000     1.300000\n",
       "75%        6.400000     3.300000      5.100000     1.800000\n",
       "max        7.900000     4.400000      6.900000     2.500000"
      ]
     },
     "execution_count": 5,
     "metadata": {},
     "output_type": "execute_result"
    }
   ],
   "source": [
    "# Displaying the discreption of the dataset\n",
    "iris.describe()#.transpose()"
   ]
  },
  {
   "cell_type": "code",
   "execution_count": 16,
   "metadata": {
    "collapsed": false
   },
   "outputs": [
    {
     "data": {
      "text/plain": [
       "Index([u'sepal_length', u'sepal_width', u'petal_length', u'petal_width',\n",
       "       u'species'],\n",
       "      dtype='object')"
      ]
     },
     "execution_count": 16,
     "metadata": {},
     "output_type": "execute_result"
    }
   ],
   "source": [
    "# List of columns\n",
    "iris.columns"
   ]
  },
  {
   "cell_type": "markdown",
   "metadata": {},
   "source": [
    "#### Dividing the dataset into feature and labels"
   ]
  },
  {
   "cell_type": "code",
   "execution_count": 17,
   "metadata": {
    "collapsed": true
   },
   "outputs": [],
   "source": [
    "# Assigning all columns except for the \"species\"\n",
    "# column as a feature columns\n",
    "features = iris.drop(\"species\", axis=1)"
   ]
  },
  {
   "cell_type": "code",
   "execution_count": 8,
   "metadata": {
    "collapsed": false
   },
   "outputs": [
    {
     "data": {
      "text/html": [
       "<div>\n",
       "<table border=\"1\" class=\"dataframe\">\n",
       "  <thead>\n",
       "    <tr style=\"text-align: right;\">\n",
       "      <th></th>\n",
       "      <th>sepal_length</th>\n",
       "      <th>sepal_width</th>\n",
       "      <th>petal_length</th>\n",
       "      <th>petal_width</th>\n",
       "    </tr>\n",
       "  </thead>\n",
       "  <tbody>\n",
       "    <tr>\n",
       "      <th>0</th>\n",
       "      <td>5.1</td>\n",
       "      <td>3.5</td>\n",
       "      <td>1.4</td>\n",
       "      <td>0.2</td>\n",
       "    </tr>\n",
       "    <tr>\n",
       "      <th>1</th>\n",
       "      <td>4.9</td>\n",
       "      <td>3.0</td>\n",
       "      <td>1.4</td>\n",
       "      <td>0.2</td>\n",
       "    </tr>\n",
       "    <tr>\n",
       "      <th>2</th>\n",
       "      <td>4.7</td>\n",
       "      <td>3.2</td>\n",
       "      <td>1.3</td>\n",
       "      <td>0.2</td>\n",
       "    </tr>\n",
       "    <tr>\n",
       "      <th>3</th>\n",
       "      <td>4.6</td>\n",
       "      <td>3.1</td>\n",
       "      <td>1.5</td>\n",
       "      <td>0.2</td>\n",
       "    </tr>\n",
       "    <tr>\n",
       "      <th>4</th>\n",
       "      <td>5.0</td>\n",
       "      <td>3.6</td>\n",
       "      <td>1.4</td>\n",
       "      <td>0.2</td>\n",
       "    </tr>\n",
       "  </tbody>\n",
       "</table>\n",
       "</div>"
      ],
      "text/plain": [
       "   sepal_length  sepal_width  petal_length  petal_width\n",
       "0           5.1          3.5           1.4          0.2\n",
       "1           4.9          3.0           1.4          0.2\n",
       "2           4.7          3.2           1.3          0.2\n",
       "3           4.6          3.1           1.5          0.2\n",
       "4           5.0          3.6           1.4          0.2"
      ]
     },
     "execution_count": 8,
     "metadata": {},
     "output_type": "execute_result"
    }
   ],
   "source": [
    "# Displaying the First 5 Rows of the feature datas\n",
    "features.head()"
   ]
  },
  {
   "cell_type": "code",
   "execution_count": 18,
   "metadata": {
    "collapsed": true
   },
   "outputs": [],
   "source": [
    "# Assigning the \"species\" column as a label column\n",
    "labels = iris[\"species\"]"
   ]
  },
  {
   "cell_type": "code",
   "execution_count": 19,
   "metadata": {
    "collapsed": false
   },
   "outputs": [
    {
     "data": {
      "text/plain": [
       "0    setosa\n",
       "1    setosa\n",
       "2    setosa\n",
       "3    setosa\n",
       "4    setosa\n",
       "Name: species, dtype: object"
      ]
     },
     "execution_count": 19,
     "metadata": {},
     "output_type": "execute_result"
    }
   ],
   "source": [
    "# Displaying the first 5 rows of the labes\n",
    "labels.head()"
   ]
  },
  {
   "cell_type": "markdown",
   "metadata": {},
   "source": [
    "##### Tensorflow won't be able to understand string data type as labels so we need to convert the labels into integers using pandas' apply(custom_function) method"
   ]
  },
  {
   "cell_type": "code",
   "execution_count": 20,
   "metadata": {
    "collapsed": false
   },
   "outputs": [
    {
     "data": {
      "text/plain": [
       "{'setosa', 'versicolor', 'virginica'}"
      ]
     },
     "execution_count": 20,
     "metadata": {},
     "output_type": "execute_result"
    }
   ],
   "source": [
    "# listing the available set of labels\n",
    "set(labels)"
   ]
  },
  {
   "cell_type": "code",
   "execution_count": 21,
   "metadata": {
    "collapsed": false
   },
   "outputs": [],
   "source": [
    "# our custom function to convert string into intiger\n",
    "def strToInt(label):\n",
    "    \"\"\"\n",
    "    This Function revieves a string and returns the index of it\n",
    "    from a list (labels) as an integer\n",
    "    \"\"\"\n",
    "    labels = ['setosa', 'versicolor', 'virginica']\n",
    "    return labels.index(label)\n",
    "    "
   ]
  },
  {
   "cell_type": "code",
   "execution_count": 22,
   "metadata": {
    "collapsed": false
   },
   "outputs": [],
   "source": [
    "# Applying the custom function to the labels so that the labels are integers\n",
    "labels = labels.apply(strToInt)"
   ]
  },
  {
   "cell_type": "code",
   "execution_count": 23,
   "metadata": {
    "collapsed": false
   },
   "outputs": [
    {
     "data": {
      "text/plain": [
       "0    0\n",
       "1    0\n",
       "2    0\n",
       "3    0\n",
       "4    0\n",
       "Name: species, dtype: int64"
      ]
     },
     "execution_count": 23,
     "metadata": {},
     "output_type": "execute_result"
    }
   ],
   "source": [
    "labels.head()"
   ]
  },
  {
   "cell_type": "markdown",
   "metadata": {},
   "source": [
    "# Performing train-test split"
   ]
  },
  {
   "cell_type": "code",
   "execution_count": 24,
   "metadata": {
    "collapsed": true
   },
   "outputs": [],
   "source": [
    "from sklearn.model_selection import train_test_split"
   ]
  },
  {
   "cell_type": "code",
   "execution_count": 25,
   "metadata": {
    "collapsed": true
   },
   "outputs": [],
   "source": [
    "# Randomly spliting the features and labels into training (70%) and testing (30%) datasets with a constant seed\n",
    "x_train, x_test, y_train, y_test = train_test_split(features,labels,test_size=0.3, random_state=101)"
   ]
  },
  {
   "cell_type": "code",
   "execution_count": 26,
   "metadata": {
    "collapsed": false
   },
   "outputs": [
    {
     "data": {
      "text/html": [
       "<div>\n",
       "<table border=\"1\" class=\"dataframe\">\n",
       "  <thead>\n",
       "    <tr style=\"text-align: right;\">\n",
       "      <th></th>\n",
       "      <th>sepal_length</th>\n",
       "      <th>sepal_width</th>\n",
       "      <th>petal_length</th>\n",
       "      <th>petal_width</th>\n",
       "    </tr>\n",
       "  </thead>\n",
       "  <tbody>\n",
       "    <tr>\n",
       "      <th>13</th>\n",
       "      <td>4.3</td>\n",
       "      <td>3.0</td>\n",
       "      <td>1.1</td>\n",
       "      <td>0.1</td>\n",
       "    </tr>\n",
       "    <tr>\n",
       "      <th>102</th>\n",
       "      <td>7.1</td>\n",
       "      <td>3.0</td>\n",
       "      <td>5.9</td>\n",
       "      <td>2.1</td>\n",
       "    </tr>\n",
       "    <tr>\n",
       "      <th>67</th>\n",
       "      <td>5.8</td>\n",
       "      <td>2.7</td>\n",
       "      <td>4.1</td>\n",
       "      <td>1.0</td>\n",
       "    </tr>\n",
       "    <tr>\n",
       "      <th>34</th>\n",
       "      <td>4.9</td>\n",
       "      <td>3.1</td>\n",
       "      <td>1.5</td>\n",
       "      <td>0.2</td>\n",
       "    </tr>\n",
       "    <tr>\n",
       "      <th>98</th>\n",
       "      <td>5.1</td>\n",
       "      <td>2.5</td>\n",
       "      <td>3.0</td>\n",
       "      <td>1.1</td>\n",
       "    </tr>\n",
       "  </tbody>\n",
       "</table>\n",
       "</div>"
      ],
      "text/plain": [
       "     sepal_length  sepal_width  petal_length  petal_width\n",
       "13            4.3          3.0           1.1          0.1\n",
       "102           7.1          3.0           5.9          2.1\n",
       "67            5.8          2.7           4.1          1.0\n",
       "34            4.9          3.1           1.5          0.2\n",
       "98            5.1          2.5           3.0          1.1"
      ]
     },
     "execution_count": 26,
     "metadata": {},
     "output_type": "execute_result"
    }
   ],
   "source": [
    "x_train.head()"
   ]
  },
  {
   "cell_type": "code",
   "execution_count": 27,
   "metadata": {
    "collapsed": false
   },
   "outputs": [
    {
     "data": {
      "text/html": [
       "<div>\n",
       "<table border=\"1\" class=\"dataframe\">\n",
       "  <thead>\n",
       "    <tr style=\"text-align: right;\">\n",
       "      <th></th>\n",
       "      <th>sepal_length</th>\n",
       "      <th>sepal_width</th>\n",
       "      <th>petal_length</th>\n",
       "      <th>petal_width</th>\n",
       "    </tr>\n",
       "  </thead>\n",
       "  <tbody>\n",
       "    <tr>\n",
       "      <th>33</th>\n",
       "      <td>5.5</td>\n",
       "      <td>4.2</td>\n",
       "      <td>1.4</td>\n",
       "      <td>0.2</td>\n",
       "    </tr>\n",
       "    <tr>\n",
       "      <th>16</th>\n",
       "      <td>5.4</td>\n",
       "      <td>3.9</td>\n",
       "      <td>1.3</td>\n",
       "      <td>0.4</td>\n",
       "    </tr>\n",
       "    <tr>\n",
       "      <th>43</th>\n",
       "      <td>5.0</td>\n",
       "      <td>3.5</td>\n",
       "      <td>1.6</td>\n",
       "      <td>0.6</td>\n",
       "    </tr>\n",
       "    <tr>\n",
       "      <th>129</th>\n",
       "      <td>7.2</td>\n",
       "      <td>3.0</td>\n",
       "      <td>5.8</td>\n",
       "      <td>1.6</td>\n",
       "    </tr>\n",
       "    <tr>\n",
       "      <th>50</th>\n",
       "      <td>7.0</td>\n",
       "      <td>3.2</td>\n",
       "      <td>4.7</td>\n",
       "      <td>1.4</td>\n",
       "    </tr>\n",
       "  </tbody>\n",
       "</table>\n",
       "</div>"
      ],
      "text/plain": [
       "     sepal_length  sepal_width  petal_length  petal_width\n",
       "33            5.5          4.2           1.4          0.2\n",
       "16            5.4          3.9           1.3          0.4\n",
       "43            5.0          3.5           1.6          0.6\n",
       "129           7.2          3.0           5.8          1.6\n",
       "50            7.0          3.2           4.7          1.4"
      ]
     },
     "execution_count": 27,
     "metadata": {},
     "output_type": "execute_result"
    }
   ],
   "source": [
    "x_test.head()"
   ]
  },
  {
   "cell_type": "code",
   "execution_count": 28,
   "metadata": {
    "collapsed": false
   },
   "outputs": [
    {
     "data": {
      "text/plain": [
       "13     0\n",
       "102    2\n",
       "67     1\n",
       "34     0\n",
       "98     1\n",
       "Name: species, dtype: int64"
      ]
     },
     "execution_count": 28,
     "metadata": {},
     "output_type": "execute_result"
    }
   ],
   "source": [
    "y_train.head()"
   ]
  },
  {
   "cell_type": "code",
   "execution_count": 29,
   "metadata": {
    "collapsed": false
   },
   "outputs": [
    {
     "data": {
      "text/plain": [
       "((105, 4), (105,), (45, 4), (45,))"
      ]
     },
     "execution_count": 29,
     "metadata": {},
     "output_type": "execute_result"
    }
   ],
   "source": [
    "x_train.shape, y_train.shape, x_test.shape, y_test.shape"
   ]
  },
  {
   "cell_type": "markdown",
   "metadata": {},
   "source": [
    "#### Creating Feature columns for the classifier"
   ]
  },
  {
   "cell_type": "code",
   "execution_count": 30,
   "metadata": {
    "collapsed": false
   },
   "outputs": [
    {
     "data": {
      "text/plain": [
       "Index([u'sepal_length', u'sepal_width', u'petal_length', u'petal_width'], dtype='object')"
      ]
     },
     "execution_count": 30,
     "metadata": {},
     "output_type": "execute_result"
    }
   ],
   "source": [
    "features.columns"
   ]
  },
  {
   "cell_type": "code",
   "execution_count": 31,
   "metadata": {
    "collapsed": true
   },
   "outputs": [],
   "source": [
    "# Preparing the feature columns for the Estimator\n",
    "# We use .numeric_column since all the features are numbers (Floating)\n",
    "sepLen = tf.feature_column.numeric_column(\"sepal_length\")\n",
    "sepWid = tf.feature_column.numeric_column(\"sepal_width\")\n",
    "petLen = tf.feature_column.numeric_column(\"petal_length\")\n",
    "petWid = tf.feature_column.numeric_column(\"petal_width\")"
   ]
  },
  {
   "cell_type": "code",
   "execution_count": 32,
   "metadata": {
    "collapsed": true
   },
   "outputs": [],
   "source": [
    "# Merging all the feature columns into a single list\n",
    "featureColumns = [sepLen, sepWid, petLen, petWid]"
   ]
  },
  {
   "cell_type": "code",
   "execution_count": 33,
   "metadata": {
    "collapsed": true
   },
   "outputs": [],
   "source": [
    "# Creating Input Function for the tf.estimator model\n",
    "inputFunction = tf.estimator.inputs.pandas_input_fn(x=features, y=labels, batch_size=10, num_epochs=None, shuffle=True)"
   ]
  },
  {
   "cell_type": "markdown",
   "metadata": {},
   "source": [
    "###  Creating a Linear Classifier Model"
   ]
  },
  {
   "cell_type": "code",
   "execution_count": 34,
   "metadata": {
    "collapsed": false
   },
   "outputs": [
    {
     "name": "stdout",
     "output_type": "stream",
     "text": [
      "INFO:tensorflow:Using default config.\n",
      "WARNING:tensorflow:Using temporary folder as model directory: /tmp/tmpWbgN6i\n",
      "INFO:tensorflow:Using config: {'_save_checkpoints_secs': 600, '_session_config': None, '_keep_checkpoint_max': 5, '_tf_random_seed': 1, '_keep_checkpoint_every_n_hours': 10000, '_log_step_count_steps': 100, '_save_checkpoints_steps': None, '_model_dir': '/tmp/tmpWbgN6i', '_save_summary_steps': 100}\n"
     ]
    }
   ],
   "source": [
    "classifier = tf.estimator.LinearClassifier(feature_columns=featureColumns, n_classes=3)"
   ]
  },
  {
   "cell_type": "code",
   "execution_count": 35,
   "metadata": {
    "collapsed": false
   },
   "outputs": [
    {
     "name": "stdout",
     "output_type": "stream",
     "text": [
      "INFO:tensorflow:Create CheckpointSaverHook.\n",
      "INFO:tensorflow:Saving checkpoints for 1 into /tmp/tmpWbgN6i/model.ckpt.\n",
      "INFO:tensorflow:loss = 10.9861, step = 1\n",
      "INFO:tensorflow:global_step/sec: 309.426\n",
      "INFO:tensorflow:loss = 2.86054, step = 101 (0.329 sec)\n",
      "INFO:tensorflow:global_step/sec: 328.689\n",
      "INFO:tensorflow:loss = 3.11261, step = 201 (0.320 sec)\n",
      "INFO:tensorflow:global_step/sec: 321.162\n",
      "INFO:tensorflow:loss = 4.2512, step = 301 (0.307 sec)\n",
      "INFO:tensorflow:global_step/sec: 369.212\n",
      "INFO:tensorflow:loss = 3.03426, step = 401 (0.258 sec)\n",
      "INFO:tensorflow:global_step/sec: 262.847\n",
      "INFO:tensorflow:loss = 2.00789, step = 501 (0.379 sec)\n",
      "INFO:tensorflow:global_step/sec: 213.478\n",
      "INFO:tensorflow:loss = 1.68434, step = 601 (0.469 sec)\n",
      "INFO:tensorflow:global_step/sec: 220.959\n",
      "INFO:tensorflow:loss = 1.83753, step = 701 (0.453 sec)\n",
      "INFO:tensorflow:global_step/sec: 213.78\n",
      "INFO:tensorflow:loss = 1.05465, step = 801 (0.474 sec)\n",
      "INFO:tensorflow:global_step/sec: 266.334\n",
      "INFO:tensorflow:loss = 2.16668, step = 901 (0.368 sec)\n",
      "INFO:tensorflow:Saving checkpoints for 1000 into /tmp/tmpWbgN6i/model.ckpt.\n",
      "INFO:tensorflow:Loss for final step: 1.488.\n"
     ]
    },
    {
     "data": {
      "text/plain": [
       "<tensorflow.python.estimator.canned.linear.LinearClassifier at 0x7f53e6e3b090>"
      ]
     },
     "execution_count": 35,
     "metadata": {},
     "output_type": "execute_result"
    }
   ],
   "source": [
    "# Training the model for 1000 steps on the dataset\n",
    "classifier.train(input_fn=inputFunction, steps=1000)"
   ]
  },
  {
   "cell_type": "markdown",
   "metadata": {},
   "source": [
    "### Evaluating the classifier (Testing)"
   ]
  },
  {
   "cell_type": "code",
   "execution_count": 44,
   "metadata": {
    "collapsed": false
   },
   "outputs": [],
   "source": [
    "predictionInputFunction = tf.estimator.inputs.pandas_input_fn(x=x_test, batch_size=len(x_test), shuffle=False)"
   ]
  },
  {
   "cell_type": "code",
   "execution_count": 45,
   "metadata": {
    "collapsed": true
   },
   "outputs": [],
   "source": [
    "predicted = classifier.predict(input_fn=predictionInputFunction)"
   ]
  },
  {
   "cell_type": "code",
   "execution_count": 46,
   "metadata": {
    "collapsed": false
   },
   "outputs": [
    {
     "name": "stdout",
     "output_type": "stream",
     "text": [
      "INFO:tensorflow:Restoring parameters from /tmp/tmpWbgN6i/model.ckpt-1000\n"
     ]
    }
   ],
   "source": [
    "predictions = list(predicted)"
   ]
  },
  {
   "cell_type": "code",
   "execution_count": 47,
   "metadata": {
    "collapsed": false
   },
   "outputs": [
    {
     "data": {
      "text/plain": [
       "[{'class_ids': array([0]),\n",
       "  'classes': array(['0'], dtype=object),\n",
       "  'logits': array([ 7.59103966,  1.92396569, -7.7882328 ], dtype=float32),\n",
       "  'probabilities': array([  9.96553659e-01,   3.44605045e-03,   2.08625565e-07], dtype=float32)},\n",
       " {'class_ids': array([0]),\n",
       "  'classes': array(['0'], dtype=object),\n",
       "  'logits': array([ 6.72097063,  1.73029315, -7.02116108], dtype=float32),\n",
       "  'probabilities': array([  9.93243873e-01,   6.75510755e-03,   1.06886716e-06], dtype=float32)},\n",
       " {'class_ids': array([0]),\n",
       "  'classes': array(['0'], dtype=object),\n",
       "  'logits': array([ 4.69456673,  1.47729254, -5.44692516], dtype=float32),\n",
       "  'probabilities': array([  9.61442709e-01,   3.85193564e-02,   3.78904224e-05], dtype=float32)},\n",
       " {'class_ids': array([2]),\n",
       "  'classes': array(['2'], dtype=object),\n",
       "  'logits': array([-6.182477  ,  1.30959487,  1.3586309 ], dtype=float32),\n",
       "  'probabilities': array([  2.71836529e-04,   4.87610877e-01,   5.12117326e-01], dtype=float32)},\n",
       " {'class_ids': array([1]),\n",
       "  'classes': array(['1'], dtype=object),\n",
       "  'logits': array([-3.1733284 ,  1.39173889, -0.59636521], dtype=float32),\n",
       "  'probabilities': array([ 0.00907226,  0.87156296,  0.11936475], dtype=float32)},\n",
       " {'class_ids': array([2]),\n",
       "  'classes': array(['2'], dtype=object),\n",
       "  'logits': array([-5.86145973,  0.88594323,  1.6442945 ], dtype=float32),\n",
       "  'probabilities': array([  3.74346680e-04,   3.18884909e-01,   6.80740714e-01], dtype=float32)},\n",
       " {'class_ids': array([1]),\n",
       "  'classes': array(['1'], dtype=object),\n",
       "  'logits': array([-5.09811497,  1.13352215,  1.06016088], dtype=float32),\n",
       "  'probabilities': array([ 0.00101812,  0.51780438,  0.48117751], dtype=float32)},\n",
       " {'class_ids': array([1]),\n",
       "  'classes': array(['1'], dtype=object),\n",
       "  'logits': array([-3.77138329,  1.11189377,  0.2907505 ], dtype=float32),\n",
       "  'probabilities': array([ 0.0052312 ,  0.69084603,  0.3039228 ], dtype=float32)},\n",
       " {'class_ids': array([2]),\n",
       "  'classes': array(['2'], dtype=object),\n",
       "  'logits': array([-6.65752554,  0.80878133,  2.24003172], dtype=float32),\n",
       "  'probabilities': array([  1.10336012e-04,   1.92882657e-01,   8.07007015e-01], dtype=float32)},\n",
       " {'class_ids': array([0]),\n",
       "  'classes': array(['0'], dtype=object),\n",
       "  'logits': array([ 5.31358862,  1.81997395, -6.0230341 ], dtype=float32),\n",
       "  'probabilities': array([  9.70494270e-01,   2.94941179e-02,   1.15760522e-05], dtype=float32)},\n",
       " {'class_ids': array([2]),\n",
       "  'classes': array(['2'], dtype=object),\n",
       "  'logits': array([-6.41665745,  0.75731665,  2.02753854], dtype=float32),\n",
       "  'probabilities': array([  1.67953287e-04,   2.19182432e-01,   7.80649602e-01], dtype=float32)},\n",
       " {'class_ids': array([0]),\n",
       "  'classes': array(['0'], dtype=object),\n",
       "  'logits': array([ 7.32019854,  1.94342732, -7.59650898], dtype=float32),\n",
       "  'probabilities': array([  9.95398223e-01,   4.60145203e-03,   3.30942754e-07], dtype=float32)},\n",
       " {'class_ids': array([0]),\n",
       "  'classes': array(['0'], dtype=object),\n",
       "  'logits': array([ 5.50279999,  1.75720036, -6.19756889], dtype=float32),\n",
       "  'probabilities': array([  9.76915717e-01,   2.30761748e-02,   8.09937410e-06], dtype=float32)},\n",
       " {'class_ids': array([2]),\n",
       "  'classes': array(['2'], dtype=object),\n",
       "  'logits': array([-9.14367485,  1.12022555,  3.35341191], dtype=float32),\n",
       "  'probabilities': array([  3.37568599e-06,   9.68093500e-02,   9.03187215e-01], dtype=float32)},\n",
       " {'class_ids': array([2]),\n",
       "  'classes': array(['2'], dtype=object),\n",
       "  'logits': array([-5.49186802,  0.82274419,  1.42880511], dtype=float32),\n",
       "  'probabilities': array([  6.38329191e-04,   3.52732956e-01,   6.46628678e-01], dtype=float32)},\n",
       " {'class_ids': array([1]),\n",
       "  'classes': array(['1'], dtype=object),\n",
       "  'logits': array([-2.90808153,  1.32658637, -0.6048727 ], dtype=float32),\n",
       "  'probabilities': array([ 0.01249298,  0.8624993 ,  0.12500769], dtype=float32)},\n",
       " {'class_ids': array([1]),\n",
       "  'classes': array(['1'], dtype=object),\n",
       "  'logits': array([-2.79152679,  1.11210608, -0.45296311], dtype=float32),\n",
       "  'probabilities': array([ 0.01640727,  0.8135094 ,  0.1700833 ], dtype=float32)},\n",
       " {'class_ids': array([1]),\n",
       "  'classes': array(['1'], dtype=object),\n",
       "  'logits': array([-3.10166121,  1.14492989, -0.277946  ], dtype=float32),\n",
       "  'probabilities': array([ 0.01140171,  0.79660147,  0.19199678], dtype=float32)},\n",
       " {'class_ids': array([0]),\n",
       "  'classes': array(['0'], dtype=object),\n",
       "  'logits': array([ 5.55666161,  1.68113446, -6.05482483], dtype=float32),\n",
       "  'probabilities': array([  9.79669452e-01,   2.03216746e-02,   8.87718124e-06], dtype=float32)},\n",
       " {'class_ids': array([2]),\n",
       "  'classes': array(['2'], dtype=object),\n",
       "  'logits': array([-6.50819016,  1.21619666,  1.79557443], dtype=float32),\n",
       "  'probabilities': array([  1.58656825e-04,   3.59018832e-01,   6.40822530e-01], dtype=float32)},\n",
       " {'class_ids': array([1]),\n",
       "  'classes': array(['1'], dtype=object),\n",
       "  'logits': array([-2.66299891,  1.27844679, -0.55620074], dtype=float32),\n",
       "  'probabilities': array([ 0.01647043,  0.84811175,  0.1354178 ], dtype=float32)},\n",
       " {'class_ids': array([0]),\n",
       "  'classes': array(['0'], dtype=object),\n",
       "  'logits': array([ 6.46467686,  1.89664078, -6.96029949], dtype=float32),\n",
       "  'probabilities': array([  9.89726841e-01,   1.02717038e-02,   1.46258856e-06], dtype=float32)},\n",
       " {'class_ids': array([1]),\n",
       "  'classes': array(['1'], dtype=object),\n",
       "  'logits': array([-3.84388638,  1.2012918 ,  0.20363641], dtype=float32),\n",
       "  'probabilities': array([ 0.00468324,  0.72717577,  0.26814097], dtype=float32)},\n",
       " {'class_ids': array([1]),\n",
       "  'classes': array(['1'], dtype=object),\n",
       "  'logits': array([-2.88791943,  1.30957329, -0.66205096], dtype=float32),\n",
       "  'probabilities': array([ 0.01302408,  0.86635315,  0.1206228 ], dtype=float32)},\n",
       " {'class_ids': array([1]),\n",
       "  'classes': array(['1'], dtype=object),\n",
       "  'logits': array([-3.0222373 ,  1.27561653, -0.47583866], dtype=float32),\n",
       "  'probabilities': array([ 0.01145438,  0.84237552,  0.14617005], dtype=float32)},\n",
       " {'class_ids': array([1]),\n",
       "  'classes': array(['1'], dtype=object),\n",
       "  'logits': array([-1.9229579 ,  1.09986985, -0.96158695], dtype=float32),\n",
       "  'probabilities': array([ 0.04138286,  0.85038942,  0.10822774], dtype=float32)},\n",
       " {'class_ids': array([1]),\n",
       "  'classes': array(['1'], dtype=object),\n",
       "  'logits': array([-1.81221461,  1.22736371, -0.98360038], dtype=float32),\n",
       "  'probabilities': array([ 0.04134525,  0.86396825,  0.09468654], dtype=float32)},\n",
       " {'class_ids': array([2]),\n",
       "  'classes': array(['2'], dtype=object),\n",
       "  'logits': array([-8.00315094,  0.22950405,  3.54959321], dtype=float32),\n",
       "  'probabilities': array([  9.27428755e-06,   3.48880813e-02,   9.65102613e-01], dtype=float32)},\n",
       " {'class_ids': array([0]),\n",
       "  'classes': array(['0'], dtype=object),\n",
       "  'logits': array([ 4.95873928,  1.85198379, -5.83816528], dtype=float32),\n",
       "  'probabilities': array([  9.57151711e-01,   4.28286158e-02,   1.95859539e-05], dtype=float32)},\n",
       " {'class_ids': array([0]),\n",
       "  'classes': array(['0'], dtype=object),\n",
       "  'logits': array([ 3.89489555,  1.65472984, -4.84440804], dtype=float32),\n",
       "  'probabilities': array([  9.03667986e-01,   9.61872041e-02,   1.44736332e-04], dtype=float32)},\n",
       " {'class_ids': array([2]),\n",
       "  'classes': array(['2'], dtype=object),\n",
       "  'logits': array([-8.18764591,  0.59973735,  3.25842166], dtype=float32),\n",
       "  'probabilities': array([  9.99151780e-06,   6.54551163e-02,   9.34534907e-01], dtype=float32)},\n",
       " {'class_ids': array([1]),\n",
       "  'classes': array(['1'], dtype=object),\n",
       "  'logits': array([-3.44888544,  1.10374093,  0.06106758], dtype=float32),\n",
       "  'probabilities': array([ 0.00773228,  0.73364848,  0.25861919], dtype=float32)},\n",
       " {'class_ids': array([2]),\n",
       "  'classes': array(['2'], dtype=object),\n",
       "  'logits': array([-6.4993372 ,  0.94425875,  1.91889405], dtype=float32),\n",
       "  'probabilities': array([  1.60288051e-04,   2.73913652e-01,   7.25926101e-01], dtype=float32)},\n",
       " {'class_ids': array([1]),\n",
       "  'classes': array(['1'], dtype=object),\n",
       "  'logits': array([-2.48158836,  1.25735736, -0.72822118], dtype=float32),\n",
       "  'probabilities': array([ 0.0204802 ,  0.86126685,  0.11825294], dtype=float32)},\n",
       " {'class_ids': array([2]),\n",
       "  'classes': array(['2'], dtype=object),\n",
       "  'logits': array([-7.1309185 ,  0.75498158,  2.44942737], dtype=float32),\n",
       "  'probabilities': array([  5.83500441e-05,   1.55183017e-01,   8.44758630e-01], dtype=float32)},\n",
       " {'class_ids': array([1]),\n",
       "  'classes': array(['1'], dtype=object),\n",
       "  'logits': array([-3.88080168,  1.15879405,  0.21097422], dtype=float32),\n",
       "  'probabilities': array([ 0.00464568,  0.71732843,  0.27802581], dtype=float32)},\n",
       " {'class_ids': array([1]),\n",
       "  'classes': array(['1'], dtype=object),\n",
       "  'logits': array([-3.77341461,  1.23078358, -0.04661059], dtype=float32),\n",
       "  'probabilities': array([ 0.00521965,  0.77792412,  0.21685627], dtype=float32)},\n",
       " {'class_ids': array([1]),\n",
       "  'classes': array(['1'], dtype=object),\n",
       "  'logits': array([-3.36146641,  1.0146687 , -0.0390985 ], dtype=float32),\n",
       "  'probabilities': array([ 0.00923737,  0.73464817,  0.25611445], dtype=float32)},\n",
       " {'class_ids': array([1]),\n",
       "  'classes': array(['1'], dtype=object),\n",
       "  'logits': array([-3.48123646,  1.12759781,  0.01625371], dtype=float32),\n",
       "  'probabilities': array([ 0.0074405 ,  0.74678159,  0.24577798], dtype=float32)},\n",
       " {'class_ids': array([2]),\n",
       "  'classes': array(['2'], dtype=object),\n",
       "  'logits': array([-8.38820839,  0.82676572,  3.09965682], dtype=float32),\n",
       "  'probabilities': array([  9.29604903e-06,   9.33922678e-02,   9.06598389e-01], dtype=float32)},\n",
       " {'class_ids': array([0]),\n",
       "  'classes': array(['0'], dtype=object),\n",
       "  'logits': array([ 5.81531334,  1.66851664, -6.34854126], dtype=float32),\n",
       "  'probabilities': array([  9.84426141e-01,   1.55686950e-02,   5.13438272e-06], dtype=float32)},\n",
       " {'class_ids': array([0]),\n",
       "  'classes': array(['0'], dtype=object),\n",
       "  'logits': array([ 6.93370199,  1.7060107 , -7.01730347], dtype=float32),\n",
       "  'probabilities': array([  9.94661987e-01,   5.33725647e-03,   8.68621555e-07], dtype=float32)},\n",
       " {'class_ids': array([0]),\n",
       "  'classes': array(['0'], dtype=object),\n",
       "  'logits': array([ 5.11000395,  1.76737642, -5.87429714], dtype=float32),\n",
       "  'probabilities': array([  9.65846777e-01,   3.41368578e-02,   1.63865334e-05], dtype=float32)},\n",
       " {'class_ids': array([1]),\n",
       "  'classes': array(['1'], dtype=object),\n",
       "  'logits': array([-5.08776188,  1.06749296,  0.92503381], dtype=float32),\n",
       "  'probabilities': array([ 0.00113532,  0.53494668,  0.46391806], dtype=float32)},\n",
       " {'class_ids': array([1]),\n",
       "  'classes': array(['1'], dtype=object),\n",
       "  'logits': array([-4.15058994,  0.94800168,  0.52853274], dtype=float32),\n",
       "  'probabilities': array([ 0.00367017,  0.60114175,  0.39518809], dtype=float32)}]"
      ]
     },
     "execution_count": 47,
     "metadata": {},
     "output_type": "execute_result"
    }
   ],
   "source": [
    "predictions"
   ]
  },
  {
   "cell_type": "code",
   "execution_count": 50,
   "metadata": {
    "collapsed": false
   },
   "outputs": [],
   "source": [
    "testPrediction = [pred[\"class_ids\"][0] for pred in predictions]"
   ]
  },
  {
   "cell_type": "markdown",
   "metadata": {},
   "source": [
    "#####  Getting a full report on the model's performance on the test data"
   ]
  },
  {
   "cell_type": "code",
   "execution_count": 51,
   "metadata": {
    "collapsed": false
   },
   "outputs": [],
   "source": [
    "from sklearn.metrics import classification_report"
   ]
  },
  {
   "cell_type": "code",
   "execution_count": 52,
   "metadata": {
    "collapsed": false
   },
   "outputs": [
    {
     "name": "stdout",
     "output_type": "stream",
     "text": [
      "             precision    recall  f1-score   support\n",
      "\n",
      "          0       1.00      1.00      1.00        13\n",
      "          1       1.00      1.00      1.00        20\n",
      "          2       1.00      1.00      1.00        12\n",
      "\n",
      "avg / total       1.00      1.00      1.00        45\n",
      "\n"
     ]
    }
   ],
   "source": [
    "print(classification_report(y_test, testPrediction))"
   ]
  },
  {
   "cell_type": "markdown",
   "metadata": {},
   "source": [
    "# Done!"
   ]
  }
 ],
 "metadata": {
  "kernelspec": {
   "display_name": "Python 2",
   "language": "python",
   "name": "python2"
  },
  "language_info": {
   "codemirror_mode": {
    "name": "ipython",
    "version": 2
   },
   "file_extension": ".py",
   "mimetype": "text/x-python",
   "name": "python",
   "nbconvert_exporter": "python",
   "pygments_lexer": "ipython2",
   "version": "2.7.15"
  }
 },
 "nbformat": 4,
 "nbformat_minor": 2
}
