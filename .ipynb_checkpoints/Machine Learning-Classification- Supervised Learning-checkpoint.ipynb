{
 "cells": [
  {
   "cell_type": "markdown",
   "metadata": {},
   "source": [
    "# IRIS Flower Data set\n",
    "\n"
   ]
  },
  {
   "cell_type": "markdown",
   "metadata": {},
   "source": [
    "###### The Iris flower data set is a multivariate data set introduced by the British Statistician and Biologist Ronald Fisher in his 19936 paper."
   ]
  },
  {
   "cell_type": "markdown",
   "metadata": {},
   "source": [
    "The dataset contains a set of 150 records under 5 attributes:\n",
    "\n",
    "* Petal Length  (numeric or continuous)\n",
    "* Petal Width  (numeric or continuous)\n",
    "* Sepal Length  (numeric or continuous)\n",
    "* Sepal Width  (numeric or continuous)\n",
    "* Class (The label) ( catagorical)"
   ]
  },
  {
   "cell_type": "markdown",
   "metadata": {},
   "source": [
    "For Further Reading refer https://en.m.wikipedia.org/wiki/Iris_flower_data_set"
   ]
  },
  {
   "cell_type": "markdown",
   "metadata": {},
   "source": [
    "#### Importing Necessary Modules"
   ]
  },
  {
   "cell_type": "code",
   "execution_count": 1,
   "metadata": {
    "collapsed": true
   },
   "outputs": [],
   "source": [
    "import tensorflow as tf\n",
    "import pandas as pd"
   ]
  },
  {
   "cell_type": "markdown",
   "metadata": {},
   "source": [
    "#### Reading data"
   ]
  },
  {
   "cell_type": "code",
   "execution_count": 2,
   "metadata": {
    "collapsed": true
   },
   "outputs": [],
   "source": [
    "iris = pd.read_csv(\"iris.csv\")"
   ]
  },
  {
   "cell_type": "code",
   "execution_count": 3,
   "metadata": {
    "collapsed": false
   },
   "outputs": [
    {
     "data": {
      "text/plain": [
       "(150, 5)"
      ]
     },
     "execution_count": 3,
     "metadata": {},
     "output_type": "execute_result"
    }
   ],
   "source": [
    "# Displaying the shape of the data \n",
    "iris.shape"
   ]
  },
  {
   "cell_type": "code",
   "execution_count": 4,
   "metadata": {
    "collapsed": false
   },
   "outputs": [
    {
     "data": {
      "text/html": [
       "<div>\n",
       "<table border=\"1\" class=\"dataframe\">\n",
       "  <thead>\n",
       "    <tr style=\"text-align: right;\">\n",
       "      <th></th>\n",
       "      <th>sepal_length</th>\n",
       "      <th>sepal_width</th>\n",
       "      <th>petal_length</th>\n",
       "      <th>petal_width</th>\n",
       "      <th>species</th>\n",
       "    </tr>\n",
       "  </thead>\n",
       "  <tbody>\n",
       "    <tr>\n",
       "      <th>0</th>\n",
       "      <td>5.1</td>\n",
       "      <td>3.5</td>\n",
       "      <td>1.4</td>\n",
       "      <td>0.2</td>\n",
       "      <td>setosa</td>\n",
       "    </tr>\n",
       "    <tr>\n",
       "      <th>1</th>\n",
       "      <td>4.9</td>\n",
       "      <td>3.0</td>\n",
       "      <td>1.4</td>\n",
       "      <td>0.2</td>\n",
       "      <td>setosa</td>\n",
       "    </tr>\n",
       "    <tr>\n",
       "      <th>2</th>\n",
       "      <td>4.7</td>\n",
       "      <td>3.2</td>\n",
       "      <td>1.3</td>\n",
       "      <td>0.2</td>\n",
       "      <td>setosa</td>\n",
       "    </tr>\n",
       "    <tr>\n",
       "      <th>3</th>\n",
       "      <td>4.6</td>\n",
       "      <td>3.1</td>\n",
       "      <td>1.5</td>\n",
       "      <td>0.2</td>\n",
       "      <td>setosa</td>\n",
       "    </tr>\n",
       "    <tr>\n",
       "      <th>4</th>\n",
       "      <td>5.0</td>\n",
       "      <td>3.6</td>\n",
       "      <td>1.4</td>\n",
       "      <td>0.2</td>\n",
       "      <td>setosa</td>\n",
       "    </tr>\n",
       "  </tbody>\n",
       "</table>\n",
       "</div>"
      ],
      "text/plain": [
       "   sepal_length  sepal_width  petal_length  petal_width species\n",
       "0           5.1          3.5           1.4          0.2  setosa\n",
       "1           4.9          3.0           1.4          0.2  setosa\n",
       "2           4.7          3.2           1.3          0.2  setosa\n",
       "3           4.6          3.1           1.5          0.2  setosa\n",
       "4           5.0          3.6           1.4          0.2  setosa"
      ]
     },
     "execution_count": 4,
     "metadata": {},
     "output_type": "execute_result"
    }
   ],
   "source": [
    "# Displaying the first 5 Rows of the dataset\n",
    "iris.head()"
   ]
  },
  {
   "cell_type": "code",
   "execution_count": 5,
   "metadata": {
    "collapsed": false
   },
   "outputs": [
    {
     "data": {
      "text/html": [
       "<div>\n",
       "<table border=\"1\" class=\"dataframe\">\n",
       "  <thead>\n",
       "    <tr style=\"text-align: right;\">\n",
       "      <th></th>\n",
       "      <th>sepal_length</th>\n",
       "      <th>sepal_width</th>\n",
       "      <th>petal_length</th>\n",
       "      <th>petal_width</th>\n",
       "    </tr>\n",
       "  </thead>\n",
       "  <tbody>\n",
       "    <tr>\n",
       "      <th>count</th>\n",
       "      <td>150.000000</td>\n",
       "      <td>150.000000</td>\n",
       "      <td>150.000000</td>\n",
       "      <td>150.000000</td>\n",
       "    </tr>\n",
       "    <tr>\n",
       "      <th>mean</th>\n",
       "      <td>5.843333</td>\n",
       "      <td>3.057333</td>\n",
       "      <td>3.758000</td>\n",
       "      <td>1.199333</td>\n",
       "    </tr>\n",
       "    <tr>\n",
       "      <th>std</th>\n",
       "      <td>0.828066</td>\n",
       "      <td>0.435866</td>\n",
       "      <td>1.765298</td>\n",
       "      <td>0.762238</td>\n",
       "    </tr>\n",
       "    <tr>\n",
       "      <th>min</th>\n",
       "      <td>4.300000</td>\n",
       "      <td>2.000000</td>\n",
       "      <td>1.000000</td>\n",
       "      <td>0.100000</td>\n",
       "    </tr>\n",
       "    <tr>\n",
       "      <th>25%</th>\n",
       "      <td>5.100000</td>\n",
       "      <td>2.800000</td>\n",
       "      <td>1.600000</td>\n",
       "      <td>0.300000</td>\n",
       "    </tr>\n",
       "    <tr>\n",
       "      <th>50%</th>\n",
       "      <td>5.800000</td>\n",
       "      <td>3.000000</td>\n",
       "      <td>4.350000</td>\n",
       "      <td>1.300000</td>\n",
       "    </tr>\n",
       "    <tr>\n",
       "      <th>75%</th>\n",
       "      <td>6.400000</td>\n",
       "      <td>3.300000</td>\n",
       "      <td>5.100000</td>\n",
       "      <td>1.800000</td>\n",
       "    </tr>\n",
       "    <tr>\n",
       "      <th>max</th>\n",
       "      <td>7.900000</td>\n",
       "      <td>4.400000</td>\n",
       "      <td>6.900000</td>\n",
       "      <td>2.500000</td>\n",
       "    </tr>\n",
       "  </tbody>\n",
       "</table>\n",
       "</div>"
      ],
      "text/plain": [
       "       sepal_length  sepal_width  petal_length  petal_width\n",
       "count    150.000000   150.000000    150.000000   150.000000\n",
       "mean       5.843333     3.057333      3.758000     1.199333\n",
       "std        0.828066     0.435866      1.765298     0.762238\n",
       "min        4.300000     2.000000      1.000000     0.100000\n",
       "25%        5.100000     2.800000      1.600000     0.300000\n",
       "50%        5.800000     3.000000      4.350000     1.300000\n",
       "75%        6.400000     3.300000      5.100000     1.800000\n",
       "max        7.900000     4.400000      6.900000     2.500000"
      ]
     },
     "execution_count": 5,
     "metadata": {},
     "output_type": "execute_result"
    }
   ],
   "source": [
    "# Displaying the discreption of the dataset\n",
    "iris.describe()#.transpose()"
   ]
  },
  {
   "cell_type": "code",
   "execution_count": 6,
   "metadata": {
    "collapsed": false
   },
   "outputs": [
    {
     "data": {
      "text/plain": [
       "Index([u'sepal_length', u'sepal_width', u'petal_length', u'petal_width',\n",
       "       u'species'],\n",
       "      dtype='object')"
      ]
     },
     "execution_count": 6,
     "metadata": {},
     "output_type": "execute_result"
    }
   ],
   "source": [
    "# List of columns\n",
    "iris.columns"
   ]
  },
  {
   "cell_type": "markdown",
   "metadata": {},
   "source": [
    "#### Dividing the dataset into feature and labels"
   ]
  },
  {
   "cell_type": "code",
   "execution_count": 7,
   "metadata": {
    "collapsed": true
   },
   "outputs": [],
   "source": [
    "# Assigning all columns except for the \"species\"\n",
    "# column as a feature columns\n",
    "features = iris.drop(\"species\", axis=1)"
   ]
  },
  {
   "cell_type": "code",
   "execution_count": 8,
   "metadata": {
    "collapsed": false
   },
   "outputs": [
    {
     "data": {
      "text/html": [
       "<div>\n",
       "<table border=\"1\" class=\"dataframe\">\n",
       "  <thead>\n",
       "    <tr style=\"text-align: right;\">\n",
       "      <th></th>\n",
       "      <th>sepal_length</th>\n",
       "      <th>sepal_width</th>\n",
       "      <th>petal_length</th>\n",
       "      <th>petal_width</th>\n",
       "    </tr>\n",
       "  </thead>\n",
       "  <tbody>\n",
       "    <tr>\n",
       "      <th>0</th>\n",
       "      <td>5.1</td>\n",
       "      <td>3.5</td>\n",
       "      <td>1.4</td>\n",
       "      <td>0.2</td>\n",
       "    </tr>\n",
       "    <tr>\n",
       "      <th>1</th>\n",
       "      <td>4.9</td>\n",
       "      <td>3.0</td>\n",
       "      <td>1.4</td>\n",
       "      <td>0.2</td>\n",
       "    </tr>\n",
       "    <tr>\n",
       "      <th>2</th>\n",
       "      <td>4.7</td>\n",
       "      <td>3.2</td>\n",
       "      <td>1.3</td>\n",
       "      <td>0.2</td>\n",
       "    </tr>\n",
       "    <tr>\n",
       "      <th>3</th>\n",
       "      <td>4.6</td>\n",
       "      <td>3.1</td>\n",
       "      <td>1.5</td>\n",
       "      <td>0.2</td>\n",
       "    </tr>\n",
       "    <tr>\n",
       "      <th>4</th>\n",
       "      <td>5.0</td>\n",
       "      <td>3.6</td>\n",
       "      <td>1.4</td>\n",
       "      <td>0.2</td>\n",
       "    </tr>\n",
       "  </tbody>\n",
       "</table>\n",
       "</div>"
      ],
      "text/plain": [
       "   sepal_length  sepal_width  petal_length  petal_width\n",
       "0           5.1          3.5           1.4          0.2\n",
       "1           4.9          3.0           1.4          0.2\n",
       "2           4.7          3.2           1.3          0.2\n",
       "3           4.6          3.1           1.5          0.2\n",
       "4           5.0          3.6           1.4          0.2"
      ]
     },
     "execution_count": 8,
     "metadata": {},
     "output_type": "execute_result"
    }
   ],
   "source": [
    "# Displaying the First 5 Rows of the feature datas\n",
    "features.head()"
   ]
  },
  {
   "cell_type": "code",
   "execution_count": 9,
   "metadata": {
    "collapsed": true
   },
   "outputs": [],
   "source": [
    "# Assigning the \"species\" column as a label column\n",
    "labels = iris[\"species\"]"
   ]
  },
  {
   "cell_type": "code",
   "execution_count": 10,
   "metadata": {
    "collapsed": false
   },
   "outputs": [
    {
     "data": {
      "text/plain": [
       "0    setosa\n",
       "1    setosa\n",
       "2    setosa\n",
       "3    setosa\n",
       "4    setosa\n",
       "Name: species, dtype: object"
      ]
     },
     "execution_count": 10,
     "metadata": {},
     "output_type": "execute_result"
    }
   ],
   "source": [
    "# Displaying the first 5 rows of the labes\n",
    "labels.head()"
   ]
  },
  {
   "cell_type": "markdown",
   "metadata": {},
   "source": [
    "##### Tensorflow won't be able to understand string data type as labels so we need to convert the labels into integers using pandas' apply(custom_function) method"
   ]
  },
  {
   "cell_type": "code",
   "execution_count": 11,
   "metadata": {
    "collapsed": false
   },
   "outputs": [
    {
     "data": {
      "text/plain": [
       "{'setosa', 'versicolor', 'virginica'}"
      ]
     },
     "execution_count": 11,
     "metadata": {},
     "output_type": "execute_result"
    }
   ],
   "source": [
    "# listing the available set of labels\n",
    "set(labels)"
   ]
  },
  {
   "cell_type": "code",
   "execution_count": 12,
   "metadata": {
    "collapsed": false
   },
   "outputs": [],
   "source": [
    "# our custom function to convert string into intiger\n",
    "def strToInt(label):\n",
    "    \"\"\"\n",
    "    This Function revieves a string and returns the index of it\n",
    "    from a list (labels) as an integer\n",
    "    \"\"\"\n",
    "    labels = ['setosa', 'versicolor', 'virginica']\n",
    "    return labels.index(label)\n",
    "    "
   ]
  },
  {
   "cell_type": "code",
   "execution_count": 13,
   "metadata": {
    "collapsed": false
   },
   "outputs": [],
   "source": [
    "# Applying the custom function to the labels so that the labels are integers\n",
    "labels = labels.apply(strToInt)"
   ]
  },
  {
   "cell_type": "code",
   "execution_count": 14,
   "metadata": {
    "collapsed": false
   },
   "outputs": [
    {
     "data": {
      "text/plain": [
       "0    0\n",
       "1    0\n",
       "2    0\n",
       "3    0\n",
       "4    0\n",
       "Name: species, dtype: int64"
      ]
     },
     "execution_count": 14,
     "metadata": {},
     "output_type": "execute_result"
    }
   ],
   "source": [
    "labels.head()"
   ]
  },
  {
   "cell_type": "markdown",
   "metadata": {},
   "source": [
    "# Performing train-test split"
   ]
  },
  {
   "cell_type": "code",
   "execution_count": 15,
   "metadata": {
    "collapsed": true
   },
   "outputs": [],
   "source": [
    "from sklearn.model_selection import train_test_split"
   ]
  },
  {
   "cell_type": "code",
   "execution_count": 16,
   "metadata": {
    "collapsed": true
   },
   "outputs": [],
   "source": [
    "# Randomly spliting the features and labels into training (70%) and testing (30%) datasets with a constant seed\n",
    "x_train, x_test, y_train, y_test = train_test_split(features,labels,test_size=0.3, random_state=101)"
   ]
  },
  {
   "cell_type": "code",
   "execution_count": 17,
   "metadata": {
    "collapsed": false
   },
   "outputs": [
    {
     "data": {
      "text/html": [
       "<div>\n",
       "<table border=\"1\" class=\"dataframe\">\n",
       "  <thead>\n",
       "    <tr style=\"text-align: right;\">\n",
       "      <th></th>\n",
       "      <th>sepal_length</th>\n",
       "      <th>sepal_width</th>\n",
       "      <th>petal_length</th>\n",
       "      <th>petal_width</th>\n",
       "    </tr>\n",
       "  </thead>\n",
       "  <tbody>\n",
       "    <tr>\n",
       "      <th>13</th>\n",
       "      <td>4.3</td>\n",
       "      <td>3.0</td>\n",
       "      <td>1.1</td>\n",
       "      <td>0.1</td>\n",
       "    </tr>\n",
       "    <tr>\n",
       "      <th>102</th>\n",
       "      <td>7.1</td>\n",
       "      <td>3.0</td>\n",
       "      <td>5.9</td>\n",
       "      <td>2.1</td>\n",
       "    </tr>\n",
       "    <tr>\n",
       "      <th>67</th>\n",
       "      <td>5.8</td>\n",
       "      <td>2.7</td>\n",
       "      <td>4.1</td>\n",
       "      <td>1.0</td>\n",
       "    </tr>\n",
       "    <tr>\n",
       "      <th>34</th>\n",
       "      <td>4.9</td>\n",
       "      <td>3.1</td>\n",
       "      <td>1.5</td>\n",
       "      <td>0.2</td>\n",
       "    </tr>\n",
       "    <tr>\n",
       "      <th>98</th>\n",
       "      <td>5.1</td>\n",
       "      <td>2.5</td>\n",
       "      <td>3.0</td>\n",
       "      <td>1.1</td>\n",
       "    </tr>\n",
       "  </tbody>\n",
       "</table>\n",
       "</div>"
      ],
      "text/plain": [
       "     sepal_length  sepal_width  petal_length  petal_width\n",
       "13            4.3          3.0           1.1          0.1\n",
       "102           7.1          3.0           5.9          2.1\n",
       "67            5.8          2.7           4.1          1.0\n",
       "34            4.9          3.1           1.5          0.2\n",
       "98            5.1          2.5           3.0          1.1"
      ]
     },
     "execution_count": 17,
     "metadata": {},
     "output_type": "execute_result"
    }
   ],
   "source": [
    "x_train.head()"
   ]
  },
  {
   "cell_type": "code",
   "execution_count": 18,
   "metadata": {
    "collapsed": false
   },
   "outputs": [
    {
     "data": {
      "text/html": [
       "<div>\n",
       "<table border=\"1\" class=\"dataframe\">\n",
       "  <thead>\n",
       "    <tr style=\"text-align: right;\">\n",
       "      <th></th>\n",
       "      <th>sepal_length</th>\n",
       "      <th>sepal_width</th>\n",
       "      <th>petal_length</th>\n",
       "      <th>petal_width</th>\n",
       "    </tr>\n",
       "  </thead>\n",
       "  <tbody>\n",
       "    <tr>\n",
       "      <th>33</th>\n",
       "      <td>5.5</td>\n",
       "      <td>4.2</td>\n",
       "      <td>1.4</td>\n",
       "      <td>0.2</td>\n",
       "    </tr>\n",
       "    <tr>\n",
       "      <th>16</th>\n",
       "      <td>5.4</td>\n",
       "      <td>3.9</td>\n",
       "      <td>1.3</td>\n",
       "      <td>0.4</td>\n",
       "    </tr>\n",
       "    <tr>\n",
       "      <th>43</th>\n",
       "      <td>5.0</td>\n",
       "      <td>3.5</td>\n",
       "      <td>1.6</td>\n",
       "      <td>0.6</td>\n",
       "    </tr>\n",
       "    <tr>\n",
       "      <th>129</th>\n",
       "      <td>7.2</td>\n",
       "      <td>3.0</td>\n",
       "      <td>5.8</td>\n",
       "      <td>1.6</td>\n",
       "    </tr>\n",
       "    <tr>\n",
       "      <th>50</th>\n",
       "      <td>7.0</td>\n",
       "      <td>3.2</td>\n",
       "      <td>4.7</td>\n",
       "      <td>1.4</td>\n",
       "    </tr>\n",
       "  </tbody>\n",
       "</table>\n",
       "</div>"
      ],
      "text/plain": [
       "     sepal_length  sepal_width  petal_length  petal_width\n",
       "33            5.5          4.2           1.4          0.2\n",
       "16            5.4          3.9           1.3          0.4\n",
       "43            5.0          3.5           1.6          0.6\n",
       "129           7.2          3.0           5.8          1.6\n",
       "50            7.0          3.2           4.7          1.4"
      ]
     },
     "execution_count": 18,
     "metadata": {},
     "output_type": "execute_result"
    }
   ],
   "source": [
    "x_test.head()"
   ]
  },
  {
   "cell_type": "code",
   "execution_count": 19,
   "metadata": {
    "collapsed": false
   },
   "outputs": [
    {
     "data": {
      "text/plain": [
       "13     0\n",
       "102    2\n",
       "67     1\n",
       "34     0\n",
       "98     1\n",
       "Name: species, dtype: int64"
      ]
     },
     "execution_count": 19,
     "metadata": {},
     "output_type": "execute_result"
    }
   ],
   "source": [
    "y_train.head()"
   ]
  },
  {
   "cell_type": "code",
   "execution_count": 20,
   "metadata": {
    "collapsed": false
   },
   "outputs": [
    {
     "data": {
      "text/plain": [
       "((105, 4), (105,), (45, 4), (45,))"
      ]
     },
     "execution_count": 20,
     "metadata": {},
     "output_type": "execute_result"
    }
   ],
   "source": [
    "x_train.shape, y_train.shape, x_test.shape, y_test.shape"
   ]
  },
  {
   "cell_type": "markdown",
   "metadata": {},
   "source": [
    "#### Creating Feature columns for the classifier"
   ]
  },
  {
   "cell_type": "code",
   "execution_count": 21,
   "metadata": {
    "collapsed": false
   },
   "outputs": [
    {
     "data": {
      "text/plain": [
       "Index([u'sepal_length', u'sepal_width', u'petal_length', u'petal_width'], dtype='object')"
      ]
     },
     "execution_count": 21,
     "metadata": {},
     "output_type": "execute_result"
    }
   ],
   "source": [
    "features.columns"
   ]
  },
  {
   "cell_type": "code",
   "execution_count": 22,
   "metadata": {
    "collapsed": true
   },
   "outputs": [],
   "source": [
    "# Preparing the feature columns for the Estimator\n",
    "# We use .numeric_column since all the features are numbers (Floating)\n",
    "sepLen = tf.feature_column.numeric_column(\"sepal_length\")\n",
    "sepWid = tf.feature_column.numeric_column(\"sepal_width\")\n",
    "petLen = tf.feature_column.numeric_column(\"petal_length\")\n",
    "petWid = tf.feature_column.numeric_column(\"petal_width\")"
   ]
  },
  {
   "cell_type": "code",
   "execution_count": 23,
   "metadata": {
    "collapsed": true
   },
   "outputs": [],
   "source": [
    "# Merging all the feature columns into a single list\n",
    "featureColumns = [sepLen, sepWid, petLen, petWid]"
   ]
  },
  {
   "cell_type": "code",
   "execution_count": 24,
   "metadata": {
    "collapsed": true
   },
   "outputs": [],
   "source": [
    "# Creating Input Function for the tf.estimator model\n",
    "inputFunction = tf.estimator.inputs.pandas_input_fn(x=features, y=labels, batch_size=10, num_epochs=None, shuffle=True)"
   ]
  },
  {
   "cell_type": "markdown",
   "metadata": {},
   "source": [
    "###  Creating a Linear Classifier Model"
   ]
  },
  {
   "cell_type": "code",
   "execution_count": 25,
   "metadata": {
    "collapsed": false
   },
   "outputs": [
    {
     "name": "stdout",
     "output_type": "stream",
     "text": [
      "INFO:tensorflow:Using default config.\n",
      "WARNING:tensorflow:Using temporary folder as model directory: /tmp/tmpSC8KyH\n",
      "INFO:tensorflow:Using config: {'_save_checkpoints_secs': 600, '_session_config': None, '_keep_checkpoint_max': 5, '_tf_random_seed': 1, '_keep_checkpoint_every_n_hours': 10000, '_log_step_count_steps': 100, '_save_checkpoints_steps': None, '_model_dir': '/tmp/tmpSC8KyH', '_save_summary_steps': 100}\n"
     ]
    }
   ],
   "source": [
    "classifier = tf.estimator.LinearClassifier(feature_columns=featureColumns, n_classes=3)"
   ]
  },
  {
   "cell_type": "code",
   "execution_count": 26,
   "metadata": {
    "collapsed": false
   },
   "outputs": [
    {
     "name": "stdout",
     "output_type": "stream",
     "text": [
      "INFO:tensorflow:Create CheckpointSaverHook.\n",
      "INFO:tensorflow:Saving checkpoints for 1 into /tmp/tmpSC8KyH/model.ckpt.\n",
      "INFO:tensorflow:loss = 10.9861, step = 1\n",
      "INFO:tensorflow:global_step/sec: 323.82\n",
      "INFO:tensorflow:loss = 4.01058, step = 101 (0.317 sec)\n",
      "INFO:tensorflow:global_step/sec: 330.79\n",
      "INFO:tensorflow:loss = 3.85604, step = 201 (0.305 sec)\n",
      "INFO:tensorflow:global_step/sec: 365.605\n",
      "INFO:tensorflow:loss = 2.07055, step = 301 (0.271 sec)\n",
      "INFO:tensorflow:global_step/sec: 375.029\n",
      "INFO:tensorflow:loss = 2.17138, step = 401 (0.264 sec)\n",
      "INFO:tensorflow:global_step/sec: 343.116\n",
      "INFO:tensorflow:loss = 1.36344, step = 501 (0.292 sec)\n",
      "INFO:tensorflow:global_step/sec: 251.017\n",
      "INFO:tensorflow:loss = 1.42001, step = 601 (0.396 sec)\n",
      "INFO:tensorflow:global_step/sec: 260.795\n",
      "INFO:tensorflow:loss = 2.74418, step = 701 (0.386 sec)\n",
      "INFO:tensorflow:global_step/sec: 302.252\n",
      "INFO:tensorflow:loss = 2.15902, step = 801 (0.339 sec)\n",
      "INFO:tensorflow:global_step/sec: 301.226\n",
      "INFO:tensorflow:loss = 2.21824, step = 901 (0.324 sec)\n",
      "INFO:tensorflow:Saving checkpoints for 1000 into /tmp/tmpSC8KyH/model.ckpt.\n",
      "INFO:tensorflow:Loss for final step: 1.62994.\n"
     ]
    },
    {
     "data": {
      "text/plain": [
       "<tensorflow.python.estimator.canned.linear.LinearClassifier at 0x7fcead62f550>"
      ]
     },
     "execution_count": 26,
     "metadata": {},
     "output_type": "execute_result"
    }
   ],
   "source": [
    "# Training the model for 1000 steps on the dataset\n",
    "classifier.train(input_fn=inputFunction, steps=1000)"
   ]
  },
  {
   "cell_type": "markdown",
   "metadata": {},
   "source": [
    "### Evaluating the classifier (Testing)"
   ]
  },
  {
   "cell_type": "code",
   "execution_count": 27,
   "metadata": {
    "collapsed": false
   },
   "outputs": [],
   "source": [
    "predictionInputFunction = tf.estimator.inputs.pandas_input_fn(x=x_test, batch_size=len(x_test), shuffle=False)"
   ]
  },
  {
   "cell_type": "code",
   "execution_count": 28,
   "metadata": {
    "collapsed": true
   },
   "outputs": [],
   "source": [
    "predicted = classifier.predict(input_fn=predictionInputFunction)"
   ]
  },
  {
   "cell_type": "code",
   "execution_count": 29,
   "metadata": {
    "collapsed": false
   },
   "outputs": [
    {
     "name": "stdout",
     "output_type": "stream",
     "text": [
      "INFO:tensorflow:Restoring parameters from /tmp/tmpSC8KyH/model.ckpt-1000\n"
     ]
    }
   ],
   "source": [
    "predictions = list(predicted)"
   ]
  },
  {
   "cell_type": "code",
   "execution_count": 30,
   "metadata": {
    "collapsed": false
   },
   "outputs": [
    {
     "data": {
      "text/plain": [
       "[{'class_ids': array([0]),\n",
       "  'classes': array(['0'], dtype=object),\n",
       "  'logits': array([ 9.51269531,  3.22308803, -6.25453234], dtype=float32),\n",
       "  'probabilities': array([  9.98147845e-01,   1.85205217e-03,   1.41766989e-07], dtype=float32)},\n",
       " {'class_ids': array([0]),\n",
       "  'classes': array(['0'], dtype=object),\n",
       "  'logits': array([ 8.49812126,  2.89982986, -5.59972191], dtype=float32),\n",
       "  'probabilities': array([  9.96308744e-01,   3.69051402e-03,   7.51239554e-07], dtype=float32)},\n",
       " {'class_ids': array([0]),\n",
       "  'classes': array(['0'], dtype=object),\n",
       "  'logits': array([ 6.11604548,  2.42542219, -4.29748678], dtype=float32),\n",
       "  'probabilities': array([  9.75622594e-01,   2.43480690e-02,   2.92915429e-05], dtype=float32)},\n",
       " {'class_ids': array([2]),\n",
       "  'classes': array(['2'], dtype=object),\n",
       "  'logits': array([-6.59617662,  1.39884043,  1.44357121], dtype=float32),\n",
       "  'probabilities': array([  1.64772486e-04,   4.88738626e-01,   5.11096597e-01], dtype=float32)},\n",
       " {'class_ids': array([1]),\n",
       "  'classes': array(['1'], dtype=object),\n",
       "  'logits': array([-3.06472778,  1.72375894, -0.18070042], dtype=float32),\n",
       "  'probabilities': array([ 0.00719396,  0.86413378,  0.12867223], dtype=float32)},\n",
       " {'class_ids': array([2]),\n",
       "  'classes': array(['2'], dtype=object),\n",
       "  'logits': array([-6.18343496,  0.90963113,  1.68842041], dtype=float32),\n",
       "  'probabilities': array([  2.61299982e-04,   3.14498663e-01,   6.85239971e-01], dtype=float32)},\n",
       " {'class_ids': array([2]),\n",
       "  'classes': array(['2'], dtype=object),\n",
       "  'logits': array([-5.41886091,  1.16170728,  1.16576326], dtype=float32),\n",
       "  'probabilities': array([ 0.00069165,  0.49864087,  0.50066745], dtype=float32)},\n",
       " {'class_ids': array([1]),\n",
       "  'classes': array(['1'], dtype=object),\n",
       "  'logits': array([-3.86917782,  1.25578594,  0.49064553], dtype=float32),\n",
       "  'probabilities': array([ 0.00404185,  0.67971033,  0.31624788], dtype=float32)},\n",
       " {'class_ids': array([2]),\n",
       "  'classes': array(['2'], dtype=object),\n",
       "  'logits': array([-7.12436819,  0.73779154,  2.18939018], dtype=float32),\n",
       "  'probabilities': array([  7.30584070e-05,   1.89741790e-01,   8.10185134e-01], dtype=float32)},\n",
       " {'class_ids': array([0]),\n",
       "  'classes': array(['0'], dtype=object),\n",
       "  'logits': array([ 6.68657255,  2.77655959, -4.8304038 ], dtype=float32),\n",
       "  'probabilities': array([  9.80343819e-01,   1.96463261e-02,   9.76380579e-06], dtype=float32)},\n",
       " {'class_ids': array([2]),\n",
       "  'classes': array(['2'], dtype=object),\n",
       "  'logits': array([-6.75604105,  0.77143449,  2.03538847], dtype=float32),\n",
       "  'probabilities': array([  1.18525029e-04,   2.20267892e-01,   7.79613614e-01], dtype=float32)},\n",
       " {'class_ids': array([0]),\n",
       "  'classes': array(['0'], dtype=object),\n",
       "  'logits': array([ 9.16501427,  3.21875215, -6.12264395], dtype=float32),\n",
       "  'probabilities': array([  9.97390985e-01,   2.60877446e-03,   2.28833514e-07], dtype=float32)},\n",
       " {'class_ids': array([0]),\n",
       "  'classes': array(['0'], dtype=object),\n",
       "  'logits': array([ 6.99592066,  2.77041149, -4.92874908], dtype=float32),\n",
       "  'probabilities': array([  9.85586226e-01,   1.44071914e-02,   6.52944937e-06], dtype=float32)},\n",
       " {'class_ids': array([2]),\n",
       "  'classes': array(['2'], dtype=object),\n",
       "  'logits': array([-10.03199863,   0.94758326,   3.14104176], dtype=float32),\n",
       "  'probabilities': array([  1.71040597e-06,   1.00339286e-01,   8.99659038e-01], dtype=float32)},\n",
       " {'class_ids': array([2]),\n",
       "  'classes': array(['2'], dtype=object),\n",
       "  'logits': array([-5.70215988,  0.91523224,  1.50672305], dtype=float32),\n",
       "  'probabilities': array([  4.76105808e-04,   3.56123239e-01,   6.43400669e-01], dtype=float32)},\n",
       " {'class_ids': array([1]),\n",
       "  'classes': array(['1'], dtype=object),\n",
       "  'logits': array([-2.7982831 ,  1.63216567, -0.21711409], dtype=float32),\n",
       "  'probabilities': array([ 0.0101852 ,  0.85524213,  0.13457273], dtype=float32)},\n",
       " {'class_ids': array([1]),\n",
       "  'classes': array(['1'], dtype=object),\n",
       "  'logits': array([-2.62427521,  1.43097401, -0.11451614], dtype=float32),\n",
       "  'probabilities': array([ 0.01408421,  0.81265235,  0.17326346], dtype=float32)},\n",
       " {'class_ids': array([1]),\n",
       "  'classes': array(['1'], dtype=object),\n",
       "  'logits': array([-3.00602007,  1.42965448,  0.03050148], dtype=float32),\n",
       "  'probabilities': array([ 0.0094125 ,  0.79450017,  0.19608735], dtype=float32)},\n",
       " {'class_ids': array([0]),\n",
       "  'classes': array(['0'], dtype=object),\n",
       "  'logits': array([ 7.01421356,  2.67876434, -4.86995363], dtype=float32),\n",
       "  'probabilities': array([  9.87066567e-01,   1.29266139e-02,   6.80955009e-06], dtype=float32)},\n",
       " {'class_ids': array([2]),\n",
       "  'classes': array(['2'], dtype=object),\n",
       "  'logits': array([-7.04890299,  1.23277187,  1.73972094], dtype=float32),\n",
       "  'probabilities': array([  9.51383845e-05,   3.75873238e-01,   6.24031603e-01], dtype=float32)},\n",
       " {'class_ids': array([1]),\n",
       "  'classes': array(['1'], dtype=object),\n",
       "  'logits': array([-2.59730387,  1.53327417, -0.22997725], dtype=float32),\n",
       "  'probabilities': array([ 0.01353497,  0.84206277,  0.1444023 ], dtype=float32)},\n",
       " {'class_ids': array([0]),\n",
       "  'classes': array(['0'], dtype=object),\n",
       "  'logits': array([ 8.12455082,  3.04263115, -5.58499575], dtype=float32),\n",
       "  'probabilities': array([  9.93829310e-01,   6.16967259e-03,   1.10492090e-06], dtype=float32)},\n",
       " {'class_ids': array([1]),\n",
       "  'classes': array(['1'], dtype=object),\n",
       "  'logits': array([-3.93878078,  1.40193558,  0.40117991], dtype=float32),\n",
       "  'probabilities': array([ 0.00349203,  0.72865373,  0.26785424], dtype=float32)},\n",
       " {'class_ids': array([1]),\n",
       "  'classes': array(['1'], dtype=object),\n",
       "  'logits': array([-2.73281717,  1.63946342, -0.24066317], dtype=float32),\n",
       "  'probabilities': array([ 0.0108329 ,  0.85822666,  0.13094032], dtype=float32)},\n",
       " {'class_ids': array([1]),\n",
       "  'classes': array(['1'], dtype=object),\n",
       "  'logits': array([-2.92700148,  1.57157648, -0.11749351], dtype=float32),\n",
       "  'probabilities': array([ 0.00930311,  0.83624905,  0.15444785], dtype=float32)},\n",
       " {'class_ids': array([1]),\n",
       "  'classes': array(['1'], dtype=object),\n",
       "  'logits': array([-1.61374056,  1.45666337, -0.52602041], dtype=float32),\n",
       "  'probabilities': array([ 0.03918786,  0.84452212,  0.11629001], dtype=float32)},\n",
       " {'class_ids': array([1]),\n",
       "  'classes': array(['1'], dtype=object),\n",
       "  'logits': array([-1.61706555,  1.52565312, -0.60480011], dtype=float32),\n",
       "  'probabilities': array([ 0.03714904,  0.86062312,  0.10222779], dtype=float32)},\n",
       " {'class_ids': array([2]),\n",
       "  'classes': array(['2'], dtype=object),\n",
       "  'logits': array([-8.53643703,  0.05214852,  3.32002687], dtype=float32),\n",
       "  'probabilities': array([  6.83228791e-06,   3.66894901e-02,   9.63303626e-01], dtype=float32)},\n",
       " {'class_ids': array([0]),\n",
       "  'classes': array(['0'], dtype=object),\n",
       "  'logits': array([ 6.2653842 ,  2.78775287, -4.67810345], dtype=float32),\n",
       "  'probabilities': array([  9.70027983e-01,   2.99549196e-02,   1.71430529e-05], dtype=float32)},\n",
       " {'class_ids': array([0]),\n",
       "  'classes': array(['0'], dtype=object),\n",
       "  'logits': array([ 4.95709467,  2.39232588, -3.86344242], dtype=float32),\n",
       "  'probabilities': array([  9.28432107e-01,   7.14307502e-02,   1.37100593e-04], dtype=float32)},\n",
       " {'class_ids': array([2]),\n",
       "  'classes': array(['2'], dtype=object),\n",
       "  'logits': array([-8.79567814,  0.47780699,  3.06645918], dtype=float32),\n",
       "  'probabilities': array([  6.55962640e-06,   6.98718652e-02,   9.30121541e-01], dtype=float32)},\n",
       " {'class_ids': array([1]),\n",
       "  'classes': array(['1'], dtype=object),\n",
       "  'logits': array([-3.46251535,  1.29991281,  0.30310071], dtype=float32),\n",
       "  'probabilities': array([ 0.0062027 ,  0.72590071,  0.26789662], dtype=float32)},\n",
       " {'class_ids': array([2]),\n",
       "  'classes': array(['2'], dtype=object),\n",
       "  'logits': array([-6.90136385,  0.97910684,  1.91381514], dtype=float32),\n",
       "  'probabilities': array([  1.06589017e-04,   2.81940430e-01,   7.17952967e-01], dtype=float32)},\n",
       " {'class_ids': array([1]),\n",
       "  'classes': array(['1'], dtype=object),\n",
       "  'logits': array([-2.32850599,  1.56263578, -0.34729946], dtype=float32),\n",
       "  'probabilities': array([ 0.01747694,  0.85578924,  0.12673381], dtype=float32)},\n",
       " {'class_ids': array([2]),\n",
       "  'classes': array(['2'], dtype=object),\n",
       "  'logits': array([-7.58278322,  0.71550459,  2.40149355], dtype=float32),\n",
       "  'probabilities': array([  3.89092420e-05,   1.56297982e-01,   8.43663096e-01], dtype=float32)},\n",
       " {'class_ids': array([1]),\n",
       "  'classes': array(['1'], dtype=object),\n",
       "  'logits': array([-3.93767262,  1.37893915,  0.42743933], dtype=float32),\n",
       "  'probabilities': array([ 0.00352919,  0.71887064,  0.27760011], dtype=float32)},\n",
       " {'class_ids': array([1]),\n",
       "  'classes': array(['1'], dtype=object),\n",
       "  'logits': array([-3.75263453,  1.49264979,  0.27487218], dtype=float32),\n",
       "  'probabilities': array([ 0.00405202,  0.76854545,  0.22740263], dtype=float32)},\n",
       " {'class_ids': array([1]),\n",
       "  'classes': array(['1'], dtype=object),\n",
       "  'logits': array([-3.25696945,  1.2759831 ,  0.26184809], dtype=float32),\n",
       "  'probabilities': array([ 0.00782612,  0.72808558,  0.26408833], dtype=float32)},\n",
       " {'class_ids': array([1]),\n",
       "  'classes': array(['1'], dtype=object),\n",
       "  'logits': array([-3.47704077,  1.35523307,  0.26785624], dtype=float32),\n",
       "  'probabilities': array([ 0.00592415,  0.74345684,  0.25061902], dtype=float32)},\n",
       " {'class_ids': array([2]),\n",
       "  'classes': array(['2'], dtype=object),\n",
       "  'logits': array([-9.04319096,  0.6945278 ,  2.98427391], dtype=float32),\n",
       "  'probabilities': array([  5.42792031e-06,   9.19752568e-02,   9.08019364e-01], dtype=float32)},\n",
       " {'class_ids': array([0]),\n",
       "  'classes': array(['0'], dtype=object),\n",
       "  'logits': array([ 7.41283655,  2.745718  , -5.06063604], dtype=float32),\n",
       "  'probabilities': array([  9.90684509e-01,   9.31175519e-03,   3.79118569e-06], dtype=float32)},\n",
       " {'class_ids': array([0]),\n",
       "  'classes': array(['0'], dtype=object),\n",
       "  'logits': array([ 8.68457413,  2.85625863, -5.64782906], dtype=float32),\n",
       "  'probabilities': array([  9.97065008e-01,   2.93439184e-03,   5.94620474e-07], dtype=float32)},\n",
       " {'class_ids': array([0]),\n",
       "  'classes': array(['0'], dtype=object),\n",
       "  'logits': array([ 6.47897005,  2.74099588, -4.71621799], dtype=float32),\n",
       "  'probabilities': array([  9.76738036e-01,   2.32485849e-02,   1.34205247e-05], dtype=float32)},\n",
       " {'class_ids': array([1]),\n",
       "  'classes': array(['1'], dtype=object),\n",
       "  'logits': array([-5.26728249,  1.20561075,  1.09654963], dtype=float32),\n",
       "  'probabilities': array([ 0.00081379,  0.52680922,  0.47237697], dtype=float32)},\n",
       " {'class_ids': array([1]),\n",
       "  'classes': array(['1'], dtype=object),\n",
       "  'logits': array([-4.17836571,  1.15644765,  0.71444428], dtype=float32),\n",
       "  'probabilities': array([ 0.00292602,  0.60695511,  0.39011887], dtype=float32)}]"
      ]
     },
     "execution_count": 30,
     "metadata": {},
     "output_type": "execute_result"
    }
   ],
   "source": [
    "predictions"
   ]
  },
  {
   "cell_type": "code",
   "execution_count": 31,
   "metadata": {
    "collapsed": false
   },
   "outputs": [],
   "source": [
    "testPrediction = [pred[\"class_ids\"][0] for pred in predictions]"
   ]
  },
  {
   "cell_type": "markdown",
   "metadata": {},
   "source": [
    "#####  Getting a full report on the model's performance on the test data"
   ]
  },
  {
   "cell_type": "code",
   "execution_count": 32,
   "metadata": {
    "collapsed": false
   },
   "outputs": [],
   "source": [
    "from sklearn.metrics import classification_report"
   ]
  },
  {
   "cell_type": "code",
   "execution_count": 33,
   "metadata": {
    "collapsed": false
   },
   "outputs": [
    {
     "name": "stdout",
     "output_type": "stream",
     "text": [
      "             precision    recall  f1-score   support\n",
      "\n",
      "          0       1.00      1.00      1.00        13\n",
      "          1       1.00      0.95      0.97        20\n",
      "          2       0.92      1.00      0.96        12\n",
      "\n",
      "avg / total       0.98      0.98      0.98        45\n",
      "\n"
     ]
    }
   ],
   "source": [
    "print(classification_report(y_test, testPrediction))"
   ]
  },
  {
   "cell_type": "markdown",
   "metadata": {},
   "source": [
    "# Done!"
   ]
  }
 ],
 "metadata": {
  "kernelspec": {
   "display_name": "Python 2",
   "language": "python",
   "name": "python2"
  },
  "language_info": {
   "codemirror_mode": {
    "name": "ipython",
    "version": 2
   },
   "file_extension": ".py",
   "mimetype": "text/x-python",
   "name": "python",
   "nbconvert_exporter": "python",
   "pygments_lexer": "ipython2",
   "version": "2.7.13"
  }
 },
 "nbformat": 4,
 "nbformat_minor": 2
}
