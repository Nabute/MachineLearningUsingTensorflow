{
 "cells": [
  {
   "cell_type": "markdown",
   "metadata": {},
   "source": [
    "# Miles Per Gallon (MPG)"
   ]
  },
  {
   "cell_type": "markdown",
   "metadata": {},
   "source": [
    "#####  This data concerns city-cycle fuel consumption in miles per gallon, to be predicted in terms of 3 multivalued discrete and 5 continuous attributes."
   ]
  },
  {
   "cell_type": "markdown",
   "metadata": {},
   "source": [
    "It has 398 Instances and 9 attributes, including the class attribute:\n",
    "\n",
    "* mpg:                     - Continuous\n",
    "* cylinders:               - multi-valued discrete\n",
    "* displacement:            - Continuous\n",
    "* horsepower:              - Continuous\n",
    "* weight:                  - Continuous\n",
    "* acceleration:            - Continuous\n",
    "* model year:              - multi-valued discrete\n",
    "* origin:                  - multi-valued discrete\n",
    "* car name:                - string (unique for each instance)\n"
   ]
  },
  {
   "cell_type": "markdown",
   "metadata": {},
   "source": [
    "The dataset can be found at: https://archive.ics.uci.edu/ml/datasets/auto+mpg"
   ]
  },
  {
   "cell_type": "markdown",
   "metadata": {},
   "source": [
    "##### Importing necessary modules"
   ]
  },
  {
   "cell_type": "code",
   "execution_count": 1,
   "metadata": {
    "collapsed": true
   },
   "outputs": [],
   "source": [
    "import tensorflow as tf\n",
    "import pandas as pd"
   ]
  },
  {
   "cell_type": "code",
   "execution_count": 2,
   "metadata": {
    "collapsed": true
   },
   "outputs": [],
   "source": [
    "# Reading the dataset\n",
    "data = pd.read_csv(\"auto-mpg.csv\")"
   ]
  },
  {
   "cell_type": "code",
   "execution_count": 3,
   "metadata": {
    "collapsed": false
   },
   "outputs": [
    {
     "data": {
      "text/html": [
       "<div>\n",
       "<table border=\"1\" class=\"dataframe\">\n",
       "  <thead>\n",
       "    <tr style=\"text-align: right;\">\n",
       "      <th></th>\n",
       "      <th>mpg</th>\n",
       "      <th>cyl</th>\n",
       "      <th>displ</th>\n",
       "      <th>hp</th>\n",
       "      <th>weight</th>\n",
       "      <th>accel</th>\n",
       "      <th>yr</th>\n",
       "      <th>origin</th>\n",
       "      <th>name</th>\n",
       "    </tr>\n",
       "  </thead>\n",
       "  <tbody>\n",
       "    <tr>\n",
       "      <th>0</th>\n",
       "      <td>18.0</td>\n",
       "      <td>8</td>\n",
       "      <td>307.0</td>\n",
       "      <td>130</td>\n",
       "      <td>3504</td>\n",
       "      <td>12.0</td>\n",
       "      <td>70</td>\n",
       "      <td>1</td>\n",
       "      <td>chevrolet chevelle malibu</td>\n",
       "    </tr>\n",
       "    <tr>\n",
       "      <th>1</th>\n",
       "      <td>15.0</td>\n",
       "      <td>8</td>\n",
       "      <td>350.0</td>\n",
       "      <td>165</td>\n",
       "      <td>3693</td>\n",
       "      <td>11.5</td>\n",
       "      <td>70</td>\n",
       "      <td>1</td>\n",
       "      <td>buick skylark 320</td>\n",
       "    </tr>\n",
       "    <tr>\n",
       "      <th>2</th>\n",
       "      <td>18.0</td>\n",
       "      <td>8</td>\n",
       "      <td>318.0</td>\n",
       "      <td>150</td>\n",
       "      <td>3436</td>\n",
       "      <td>11.0</td>\n",
       "      <td>70</td>\n",
       "      <td>1</td>\n",
       "      <td>plymouth satellite</td>\n",
       "    </tr>\n",
       "    <tr>\n",
       "      <th>3</th>\n",
       "      <td>16.0</td>\n",
       "      <td>8</td>\n",
       "      <td>304.0</td>\n",
       "      <td>150</td>\n",
       "      <td>3433</td>\n",
       "      <td>12.0</td>\n",
       "      <td>70</td>\n",
       "      <td>1</td>\n",
       "      <td>amc rebel sst</td>\n",
       "    </tr>\n",
       "    <tr>\n",
       "      <th>4</th>\n",
       "      <td>17.0</td>\n",
       "      <td>8</td>\n",
       "      <td>302.0</td>\n",
       "      <td>140</td>\n",
       "      <td>3449</td>\n",
       "      <td>10.5</td>\n",
       "      <td>70</td>\n",
       "      <td>1</td>\n",
       "      <td>ford torino</td>\n",
       "    </tr>\n",
       "  </tbody>\n",
       "</table>\n",
       "</div>"
      ],
      "text/plain": [
       "    mpg  cyl  displ   hp  weight  accel  yr  origin                       name\n",
       "0  18.0    8  307.0  130    3504   12.0  70       1  chevrolet chevelle malibu\n",
       "1  15.0    8  350.0  165    3693   11.5  70       1          buick skylark 320\n",
       "2  18.0    8  318.0  150    3436   11.0  70       1         plymouth satellite\n",
       "3  16.0    8  304.0  150    3433   12.0  70       1              amc rebel sst\n",
       "4  17.0    8  302.0  140    3449   10.5  70       1                ford torino"
      ]
     },
     "execution_count": 3,
     "metadata": {},
     "output_type": "execute_result"
    }
   ],
   "source": [
    "# Displaying the first 5 rows of the dataset\n",
    "data.head()"
   ]
  },
  {
   "cell_type": "code",
   "execution_count": 4,
   "metadata": {
    "collapsed": false
   },
   "outputs": [
    {
     "data": {
      "text/html": [
       "<div>\n",
       "<table border=\"1\" class=\"dataframe\">\n",
       "  <thead>\n",
       "    <tr style=\"text-align: right;\">\n",
       "      <th></th>\n",
       "      <th>count</th>\n",
       "      <th>mean</th>\n",
       "      <th>std</th>\n",
       "      <th>min</th>\n",
       "      <th>25%</th>\n",
       "      <th>50%</th>\n",
       "      <th>75%</th>\n",
       "      <th>max</th>\n",
       "    </tr>\n",
       "  </thead>\n",
       "  <tbody>\n",
       "    <tr>\n",
       "      <th>mpg</th>\n",
       "      <td>392.0</td>\n",
       "      <td>23.445918</td>\n",
       "      <td>7.805007</td>\n",
       "      <td>9.0</td>\n",
       "      <td>17.000</td>\n",
       "      <td>22.75</td>\n",
       "      <td>29.000</td>\n",
       "      <td>46.6</td>\n",
       "    </tr>\n",
       "    <tr>\n",
       "      <th>cyl</th>\n",
       "      <td>392.0</td>\n",
       "      <td>5.471939</td>\n",
       "      <td>1.705783</td>\n",
       "      <td>3.0</td>\n",
       "      <td>4.000</td>\n",
       "      <td>4.00</td>\n",
       "      <td>8.000</td>\n",
       "      <td>8.0</td>\n",
       "    </tr>\n",
       "    <tr>\n",
       "      <th>displ</th>\n",
       "      <td>392.0</td>\n",
       "      <td>194.411990</td>\n",
       "      <td>104.644004</td>\n",
       "      <td>68.0</td>\n",
       "      <td>105.000</td>\n",
       "      <td>151.00</td>\n",
       "      <td>275.750</td>\n",
       "      <td>455.0</td>\n",
       "    </tr>\n",
       "    <tr>\n",
       "      <th>hp</th>\n",
       "      <td>392.0</td>\n",
       "      <td>104.469388</td>\n",
       "      <td>38.491160</td>\n",
       "      <td>46.0</td>\n",
       "      <td>75.000</td>\n",
       "      <td>93.50</td>\n",
       "      <td>126.000</td>\n",
       "      <td>230.0</td>\n",
       "    </tr>\n",
       "    <tr>\n",
       "      <th>weight</th>\n",
       "      <td>392.0</td>\n",
       "      <td>2977.584184</td>\n",
       "      <td>849.402560</td>\n",
       "      <td>1613.0</td>\n",
       "      <td>2225.250</td>\n",
       "      <td>2803.50</td>\n",
       "      <td>3614.750</td>\n",
       "      <td>5140.0</td>\n",
       "    </tr>\n",
       "    <tr>\n",
       "      <th>accel</th>\n",
       "      <td>392.0</td>\n",
       "      <td>15.541327</td>\n",
       "      <td>2.758864</td>\n",
       "      <td>8.0</td>\n",
       "      <td>13.775</td>\n",
       "      <td>15.50</td>\n",
       "      <td>17.025</td>\n",
       "      <td>24.8</td>\n",
       "    </tr>\n",
       "    <tr>\n",
       "      <th>yr</th>\n",
       "      <td>392.0</td>\n",
       "      <td>75.979592</td>\n",
       "      <td>3.683737</td>\n",
       "      <td>70.0</td>\n",
       "      <td>73.000</td>\n",
       "      <td>76.00</td>\n",
       "      <td>79.000</td>\n",
       "      <td>82.0</td>\n",
       "    </tr>\n",
       "    <tr>\n",
       "      <th>origin</th>\n",
       "      <td>392.0</td>\n",
       "      <td>1.576531</td>\n",
       "      <td>0.805518</td>\n",
       "      <td>1.0</td>\n",
       "      <td>1.000</td>\n",
       "      <td>1.00</td>\n",
       "      <td>2.000</td>\n",
       "      <td>3.0</td>\n",
       "    </tr>\n",
       "  </tbody>\n",
       "</table>\n",
       "</div>"
      ],
      "text/plain": [
       "        count         mean         std     min       25%      50%       75%  \\\n",
       "mpg     392.0    23.445918    7.805007     9.0    17.000    22.75    29.000   \n",
       "cyl     392.0     5.471939    1.705783     3.0     4.000     4.00     8.000   \n",
       "displ   392.0   194.411990  104.644004    68.0   105.000   151.00   275.750   \n",
       "hp      392.0   104.469388   38.491160    46.0    75.000    93.50   126.000   \n",
       "weight  392.0  2977.584184  849.402560  1613.0  2225.250  2803.50  3614.750   \n",
       "accel   392.0    15.541327    2.758864     8.0    13.775    15.50    17.025   \n",
       "yr      392.0    75.979592    3.683737    70.0    73.000    76.00    79.000   \n",
       "origin  392.0     1.576531    0.805518     1.0     1.000     1.00     2.000   \n",
       "\n",
       "           max  \n",
       "mpg       46.6  \n",
       "cyl        8.0  \n",
       "displ    455.0  \n",
       "hp       230.0  \n",
       "weight  5140.0  \n",
       "accel     24.8  \n",
       "yr        82.0  \n",
       "origin     3.0  "
      ]
     },
     "execution_count": 4,
     "metadata": {},
     "output_type": "execute_result"
    }
   ],
   "source": [
    "# discreption of the dataset\n",
    "data.describe().transpose()"
   ]
  },
  {
   "cell_type": "markdown",
   "metadata": {},
   "source": [
    "#####  Spliting the dataset into features and labels"
   ]
  },
  {
   "cell_type": "code",
   "execution_count": 5,
   "metadata": {
    "collapsed": false
   },
   "outputs": [],
   "source": [
    "features = data.drop(\"mpg\", axis=1)"
   ]
  },
  {
   "cell_type": "code",
   "execution_count": 6,
   "metadata": {
    "collapsed": false
   },
   "outputs": [
    {
     "data": {
      "text/html": [
       "<div>\n",
       "<table border=\"1\" class=\"dataframe\">\n",
       "  <thead>\n",
       "    <tr style=\"text-align: right;\">\n",
       "      <th></th>\n",
       "      <th>cyl</th>\n",
       "      <th>displ</th>\n",
       "      <th>hp</th>\n",
       "      <th>weight</th>\n",
       "      <th>accel</th>\n",
       "      <th>yr</th>\n",
       "      <th>origin</th>\n",
       "      <th>name</th>\n",
       "    </tr>\n",
       "  </thead>\n",
       "  <tbody>\n",
       "    <tr>\n",
       "      <th>0</th>\n",
       "      <td>8</td>\n",
       "      <td>307.0</td>\n",
       "      <td>130</td>\n",
       "      <td>3504</td>\n",
       "      <td>12.0</td>\n",
       "      <td>70</td>\n",
       "      <td>1</td>\n",
       "      <td>chevrolet chevelle malibu</td>\n",
       "    </tr>\n",
       "    <tr>\n",
       "      <th>1</th>\n",
       "      <td>8</td>\n",
       "      <td>350.0</td>\n",
       "      <td>165</td>\n",
       "      <td>3693</td>\n",
       "      <td>11.5</td>\n",
       "      <td>70</td>\n",
       "      <td>1</td>\n",
       "      <td>buick skylark 320</td>\n",
       "    </tr>\n",
       "    <tr>\n",
       "      <th>2</th>\n",
       "      <td>8</td>\n",
       "      <td>318.0</td>\n",
       "      <td>150</td>\n",
       "      <td>3436</td>\n",
       "      <td>11.0</td>\n",
       "      <td>70</td>\n",
       "      <td>1</td>\n",
       "      <td>plymouth satellite</td>\n",
       "    </tr>\n",
       "    <tr>\n",
       "      <th>3</th>\n",
       "      <td>8</td>\n",
       "      <td>304.0</td>\n",
       "      <td>150</td>\n",
       "      <td>3433</td>\n",
       "      <td>12.0</td>\n",
       "      <td>70</td>\n",
       "      <td>1</td>\n",
       "      <td>amc rebel sst</td>\n",
       "    </tr>\n",
       "    <tr>\n",
       "      <th>4</th>\n",
       "      <td>8</td>\n",
       "      <td>302.0</td>\n",
       "      <td>140</td>\n",
       "      <td>3449</td>\n",
       "      <td>10.5</td>\n",
       "      <td>70</td>\n",
       "      <td>1</td>\n",
       "      <td>ford torino</td>\n",
       "    </tr>\n",
       "  </tbody>\n",
       "</table>\n",
       "</div>"
      ],
      "text/plain": [
       "   cyl  displ   hp  weight  accel  yr  origin                       name\n",
       "0    8  307.0  130    3504   12.0  70       1  chevrolet chevelle malibu\n",
       "1    8  350.0  165    3693   11.5  70       1          buick skylark 320\n",
       "2    8  318.0  150    3436   11.0  70       1         plymouth satellite\n",
       "3    8  304.0  150    3433   12.0  70       1              amc rebel sst\n",
       "4    8  302.0  140    3449   10.5  70       1                ford torino"
      ]
     },
     "execution_count": 6,
     "metadata": {},
     "output_type": "execute_result"
    }
   ],
   "source": [
    "features.head()"
   ]
  },
  {
   "cell_type": "code",
   "execution_count": 7,
   "metadata": {
    "collapsed": false
   },
   "outputs": [
    {
     "data": {
      "text/plain": [
       "(392, 8)"
      ]
     },
     "execution_count": 7,
     "metadata": {},
     "output_type": "execute_result"
    }
   ],
   "source": [
    "features.shape"
   ]
  },
  {
   "cell_type": "code",
   "execution_count": 8,
   "metadata": {
    "collapsed": true
   },
   "outputs": [],
   "source": [
    "labels = data[\"mpg\"]"
   ]
  },
  {
   "cell_type": "code",
   "execution_count": 9,
   "metadata": {
    "collapsed": false
   },
   "outputs": [
    {
     "data": {
      "text/plain": [
       "(392,)"
      ]
     },
     "execution_count": 9,
     "metadata": {},
     "output_type": "execute_result"
    }
   ],
   "source": [
    "labels.shape"
   ]
  },
  {
   "cell_type": "code",
   "execution_count": 10,
   "metadata": {
    "collapsed": false
   },
   "outputs": [
    {
     "data": {
      "text/plain": [
       "0    18.0\n",
       "1    15.0\n",
       "2    18.0\n",
       "3    16.0\n",
       "4    17.0\n",
       "Name: mpg, dtype: float64"
      ]
     },
     "execution_count": 10,
     "metadata": {},
     "output_type": "execute_result"
    }
   ],
   "source": [
    "labels.head()"
   ]
  },
  {
   "cell_type": "markdown",
   "metadata": {},
   "source": [
    "#####  Spliting the features and labels into training (70%) and testing ( 30%) sets with a random seeding"
   ]
  },
  {
   "cell_type": "code",
   "execution_count": 11,
   "metadata": {
    "collapsed": true
   },
   "outputs": [],
   "source": [
    "from sklearn.model_selection import train_test_split"
   ]
  },
  {
   "cell_type": "code",
   "execution_count": 12,
   "metadata": {
    "collapsed": true
   },
   "outputs": [],
   "source": [
    "x_train, x_test, y_train, y_test = train_test_split(features, labels, test_size=0.3, random_state=42)"
   ]
  },
  {
   "cell_type": "code",
   "execution_count": 13,
   "metadata": {
    "collapsed": false
   },
   "outputs": [
    {
     "data": {
      "text/plain": [
       "(274, 8)"
      ]
     },
     "execution_count": 13,
     "metadata": {},
     "output_type": "execute_result"
    }
   ],
   "source": [
    "x_train.shape"
   ]
  },
  {
   "cell_type": "code",
   "execution_count": 14,
   "metadata": {
    "collapsed": false
   },
   "outputs": [
    {
     "data": {
      "text/html": [
       "<div>\n",
       "<table border=\"1\" class=\"dataframe\">\n",
       "  <thead>\n",
       "    <tr style=\"text-align: right;\">\n",
       "      <th></th>\n",
       "      <th>cyl</th>\n",
       "      <th>displ</th>\n",
       "      <th>hp</th>\n",
       "      <th>weight</th>\n",
       "      <th>accel</th>\n",
       "      <th>yr</th>\n",
       "      <th>origin</th>\n",
       "      <th>name</th>\n",
       "    </tr>\n",
       "  </thead>\n",
       "  <tbody>\n",
       "    <tr>\n",
       "      <th>78</th>\n",
       "      <td>4</td>\n",
       "      <td>96.0</td>\n",
       "      <td>69</td>\n",
       "      <td>2189</td>\n",
       "      <td>18.0</td>\n",
       "      <td>72</td>\n",
       "      <td>2</td>\n",
       "      <td>renault 12 (sw)</td>\n",
       "    </tr>\n",
       "    <tr>\n",
       "      <th>274</th>\n",
       "      <td>4</td>\n",
       "      <td>121.0</td>\n",
       "      <td>115</td>\n",
       "      <td>2795</td>\n",
       "      <td>15.7</td>\n",
       "      <td>78</td>\n",
       "      <td>2</td>\n",
       "      <td>saab 99gle</td>\n",
       "    </tr>\n",
       "    <tr>\n",
       "      <th>246</th>\n",
       "      <td>4</td>\n",
       "      <td>91.0</td>\n",
       "      <td>60</td>\n",
       "      <td>1800</td>\n",
       "      <td>16.4</td>\n",
       "      <td>78</td>\n",
       "      <td>3</td>\n",
       "      <td>honda civic cvcc</td>\n",
       "    </tr>\n",
       "    <tr>\n",
       "      <th>55</th>\n",
       "      <td>4</td>\n",
       "      <td>91.0</td>\n",
       "      <td>70</td>\n",
       "      <td>1955</td>\n",
       "      <td>20.5</td>\n",
       "      <td>71</td>\n",
       "      <td>1</td>\n",
       "      <td>plymouth cricket</td>\n",
       "    </tr>\n",
       "    <tr>\n",
       "      <th>387</th>\n",
       "      <td>4</td>\n",
       "      <td>140.0</td>\n",
       "      <td>86</td>\n",
       "      <td>2790</td>\n",
       "      <td>15.6</td>\n",
       "      <td>82</td>\n",
       "      <td>1</td>\n",
       "      <td>ford mustang gl</td>\n",
       "    </tr>\n",
       "  </tbody>\n",
       "</table>\n",
       "</div>"
      ],
      "text/plain": [
       "     cyl  displ   hp  weight  accel  yr  origin              name\n",
       "78     4   96.0   69    2189   18.0  72       2   renault 12 (sw)\n",
       "274    4  121.0  115    2795   15.7  78       2        saab 99gle\n",
       "246    4   91.0   60    1800   16.4  78       3  honda civic cvcc\n",
       "55     4   91.0   70    1955   20.5  71       1  plymouth cricket\n",
       "387    4  140.0   86    2790   15.6  82       1   ford mustang gl"
      ]
     },
     "execution_count": 14,
     "metadata": {},
     "output_type": "execute_result"
    }
   ],
   "source": [
    "x_test.head()"
   ]
  },
  {
   "cell_type": "code",
   "execution_count": 15,
   "metadata": {
    "collapsed": false
   },
   "outputs": [
    {
     "data": {
      "text/plain": [
       "78     26.0\n",
       "274    21.6\n",
       "246    36.1\n",
       "55     26.0\n",
       "387    27.0\n",
       "Name: mpg, dtype: float64"
      ]
     },
     "execution_count": 15,
     "metadata": {},
     "output_type": "execute_result"
    }
   ],
   "source": [
    " y_test.head()"
   ]
  },
  {
   "cell_type": "code",
   "execution_count": 16,
   "metadata": {
    "collapsed": false
   },
   "outputs": [
    {
     "data": {
      "text/plain": [
       "(274,)"
      ]
     },
     "execution_count": 16,
     "metadata": {},
     "output_type": "execute_result"
    }
   ],
   "source": [
    "y_train.shape"
   ]
  },
  {
   "cell_type": "code",
   "execution_count": 17,
   "metadata": {
    "collapsed": false
   },
   "outputs": [
    {
     "data": {
      "text/html": [
       "<div>\n",
       "<table border=\"1\" class=\"dataframe\">\n",
       "  <thead>\n",
       "    <tr style=\"text-align: right;\">\n",
       "      <th></th>\n",
       "      <th>cyl</th>\n",
       "      <th>displ</th>\n",
       "      <th>hp</th>\n",
       "      <th>weight</th>\n",
       "      <th>accel</th>\n",
       "      <th>yr</th>\n",
       "      <th>origin</th>\n",
       "      <th>name</th>\n",
       "    </tr>\n",
       "  </thead>\n",
       "  <tbody>\n",
       "    <tr>\n",
       "      <th>78</th>\n",
       "      <td>4</td>\n",
       "      <td>96.0</td>\n",
       "      <td>69</td>\n",
       "      <td>2189</td>\n",
       "      <td>18.0</td>\n",
       "      <td>72</td>\n",
       "      <td>2</td>\n",
       "      <td>renault 12 (sw)</td>\n",
       "    </tr>\n",
       "    <tr>\n",
       "      <th>274</th>\n",
       "      <td>4</td>\n",
       "      <td>121.0</td>\n",
       "      <td>115</td>\n",
       "      <td>2795</td>\n",
       "      <td>15.7</td>\n",
       "      <td>78</td>\n",
       "      <td>2</td>\n",
       "      <td>saab 99gle</td>\n",
       "    </tr>\n",
       "    <tr>\n",
       "      <th>246</th>\n",
       "      <td>4</td>\n",
       "      <td>91.0</td>\n",
       "      <td>60</td>\n",
       "      <td>1800</td>\n",
       "      <td>16.4</td>\n",
       "      <td>78</td>\n",
       "      <td>3</td>\n",
       "      <td>honda civic cvcc</td>\n",
       "    </tr>\n",
       "    <tr>\n",
       "      <th>55</th>\n",
       "      <td>4</td>\n",
       "      <td>91.0</td>\n",
       "      <td>70</td>\n",
       "      <td>1955</td>\n",
       "      <td>20.5</td>\n",
       "      <td>71</td>\n",
       "      <td>1</td>\n",
       "      <td>plymouth cricket</td>\n",
       "    </tr>\n",
       "    <tr>\n",
       "      <th>387</th>\n",
       "      <td>4</td>\n",
       "      <td>140.0</td>\n",
       "      <td>86</td>\n",
       "      <td>2790</td>\n",
       "      <td>15.6</td>\n",
       "      <td>82</td>\n",
       "      <td>1</td>\n",
       "      <td>ford mustang gl</td>\n",
       "    </tr>\n",
       "  </tbody>\n",
       "</table>\n",
       "</div>"
      ],
      "text/plain": [
       "     cyl  displ   hp  weight  accel  yr  origin              name\n",
       "78     4   96.0   69    2189   18.0  72       2   renault 12 (sw)\n",
       "274    4  121.0  115    2795   15.7  78       2        saab 99gle\n",
       "246    4   91.0   60    1800   16.4  78       3  honda civic cvcc\n",
       "55     4   91.0   70    1955   20.5  71       1  plymouth cricket\n",
       "387    4  140.0   86    2790   15.6  82       1   ford mustang gl"
      ]
     },
     "execution_count": 17,
     "metadata": {},
     "output_type": "execute_result"
    }
   ],
   "source": [
    "x_test.head()"
   ]
  },
  {
   "cell_type": "markdown",
   "metadata": {},
   "source": [
    "#### Creating the feature columns for the regressor"
   ]
  },
  {
   "cell_type": "code",
   "execution_count": 18,
   "metadata": {
    "collapsed": true
   },
   "outputs": [],
   "source": [
    "# Creating continuous feature columns\n",
    "cyl = tf.feature_column.numeric_column(\"cyl\")\n",
    "displ = tf.feature_column.numeric_column(\"displ\")\n",
    "hp = tf.feature_column.numeric_column(\"hp\")\n",
    "wght = tf.feature_column.numeric_column(\"weight\")\n",
    "acc = tf.feature_column.numeric_column(\"accel\")\n",
    "yr = tf.feature_column.numeric_column(\"yr\")\n",
    "orgn = tf.feature_column.numeric_column(\"origin\")"
   ]
  },
  {
   "cell_type": "code",
   "execution_count": 19,
   "metadata": {
    "collapsed": false
   },
   "outputs": [
    {
     "data": {
      "text/plain": [
       "301"
      ]
     },
     "execution_count": 19,
     "metadata": {},
     "output_type": "execute_result"
    }
   ],
   "source": [
    "# Total number of car names\n",
    "len(data[\"name\"].unique())"
   ]
  },
  {
   "cell_type": "code",
   "execution_count": 20,
   "metadata": {
    "collapsed": true
   },
   "outputs": [],
   "source": [
    "# Creating Catagorical Feature columns\n",
    "name = tf.feature_column.categorical_column_with_hash_bucket(\"name\", hash_bucket_size=1000)"
   ]
  },
  {
   "cell_type": "code",
   "execution_count": 21,
   "metadata": {
    "collapsed": true
   },
   "outputs": [],
   "source": [
    "# Aggregating all the feature columns in a single list\n",
    "feature_columns = [cyl, displ, hp, wght, acc, yr, orgn, name]"
   ]
  },
  {
   "cell_type": "markdown",
   "metadata": {},
   "source": [
    "####  Creating input function for the tf.estimator object."
   ]
  },
  {
   "cell_type": "code",
   "execution_count": 22,
   "metadata": {
    "collapsed": false
   },
   "outputs": [],
   "source": [
    "input_function = tf.estimator.inputs.pandas_input_fn(x=x_train, y=y_train, batch_size=10, num_epochs=1000, shuffle=True)"
   ]
  },
  {
   "cell_type": "markdown",
   "metadata": {},
   "source": [
    "###  Creating a Dense Neural Network Regressor"
   ]
  },
  {
   "cell_type": "code",
   "execution_count": 23,
   "metadata": {
    "collapsed": false
   },
   "outputs": [
    {
     "name": "stdout",
     "output_type": "stream",
     "text": [
      "INFO:tensorflow:Using default config.\n",
      "WARNING:tensorflow:Using temporary folder as model directory: /tmp/tmpkkNE1q\n",
      "INFO:tensorflow:Using config: {'_save_checkpoints_secs': 600, '_session_config': None, '_keep_checkpoint_max': 5, '_tf_random_seed': 1, '_keep_checkpoint_every_n_hours': 10000, '_log_step_count_steps': 100, '_save_checkpoints_steps': None, '_model_dir': '/tmp/tmpkkNE1q', '_save_summary_steps': 100}\n"
     ]
    }
   ],
   "source": [
    "regressor = tf.estimator.DNNRegressor(feature_columns=feature_columns, hidden_units=[5,5])"
   ]
  },
  {
   "cell_type": "markdown",
   "metadata": {},
   "source": [
    "###  Training the regressor model for 1000 steps"
   ]
  },
  {
   "cell_type": "code",
   "execution_count": null,
   "metadata": {
    "collapsed": false
   },
   "outputs": [],
   "source": [
    "'''\n",
    "This will generate an error because of the categorical feature \n",
    "columns. To avoid this problem the should be converted to an \n",
    "embedding_column or indicator column\n",
    "''' \n",
    "regressor.train(input_fn=input_function, steps=1000)"
   ]
  },
  {
   "cell_type": "code",
   "execution_count": 26,
   "metadata": {
    "collapsed": true
   },
   "outputs": [],
   "source": [
    "# we only have a single categorical feature column --> \"name\"\n",
    "name_embadded = tf.feature_column.embedding_column(name, dimension=1000)"
   ]
  },
  {
   "cell_type": "code",
   "execution_count": 27,
   "metadata": {
    "collapsed": false
   },
   "outputs": [],
   "source": [
    "feature_columns = [cyl, displ, hp, wght, acc, yr, orgn, name_embadded]"
   ]
  },
  {
   "cell_type": "code",
   "execution_count": 28,
   "metadata": {
    "collapsed": true
   },
   "outputs": [],
   "source": [
    "input_function = tf.estimator.inputs.pandas_input_fn(x_train, y_train, batch_size=10, num_epochs=1000, shuffle=True)"
   ]
  },
  {
   "cell_type": "code",
   "execution_count": 29,
   "metadata": {
    "collapsed": false
   },
   "outputs": [
    {
     "name": "stdout",
     "output_type": "stream",
     "text": [
      "INFO:tensorflow:Using default config.\n",
      "WARNING:tensorflow:Using temporary folder as model directory: /tmp/tmpiLr1al\n",
      "INFO:tensorflow:Using config: {'_save_checkpoints_secs': 600, '_session_config': None, '_keep_checkpoint_max': 5, '_tf_random_seed': 1, '_keep_checkpoint_every_n_hours': 10000, '_log_step_count_steps': 100, '_save_checkpoints_steps': None, '_model_dir': '/tmp/tmpiLr1al', '_save_summary_steps': 100}\n"
     ]
    }
   ],
   "source": [
    "# Creating a DNNRegressor with 2x5 hidden layer nodes\n",
    "regressor = tf.estimator.DNNRegressor(feature_columns=feature_columns, hidden_units=[50,50,50,50])"
   ]
  },
  {
   "cell_type": "code",
   "execution_count": 30,
   "metadata": {
    "collapsed": false
   },
   "outputs": [
    {
     "name": "stdout",
     "output_type": "stream",
     "text": [
      "INFO:tensorflow:Create CheckpointSaverHook.\n",
      "INFO:tensorflow:Saving checkpoints for 1 into /tmp/tmpiLr1al/model.ckpt.\n",
      "INFO:tensorflow:loss = 1686.37, step = 1\n",
      "INFO:tensorflow:global_step/sec: 216.135\n",
      "INFO:tensorflow:loss = 636.674, step = 101 (0.467 sec)\n",
      "INFO:tensorflow:global_step/sec: 219.449\n",
      "INFO:tensorflow:loss = 206.243, step = 201 (0.454 sec)\n",
      "INFO:tensorflow:global_step/sec: 230.602\n",
      "INFO:tensorflow:loss = 75.3385, step = 301 (0.438 sec)\n",
      "INFO:tensorflow:global_step/sec: 229.249\n",
      "INFO:tensorflow:loss = 117.75, step = 401 (0.431 sec)\n",
      "INFO:tensorflow:global_step/sec: 224.731\n",
      "INFO:tensorflow:loss = 280.046, step = 501 (0.448 sec)\n",
      "INFO:tensorflow:global_step/sec: 243.027\n",
      "INFO:tensorflow:loss = 345.83, step = 601 (0.411 sec)\n",
      "INFO:tensorflow:global_step/sec: 250.605\n",
      "INFO:tensorflow:loss = 76.5898, step = 701 (0.396 sec)\n",
      "INFO:tensorflow:global_step/sec: 219.639\n",
      "INFO:tensorflow:loss = 272.571, step = 801 (0.466 sec)\n",
      "INFO:tensorflow:global_step/sec: 213.55\n",
      "INFO:tensorflow:loss = 97.3444, step = 901 (0.461 sec)\n",
      "INFO:tensorflow:Saving checkpoints for 1000 into /tmp/tmpiLr1al/model.ckpt.\n",
      "INFO:tensorflow:Loss for final step: 139.842.\n"
     ]
    },
    {
     "data": {
      "text/plain": [
       "<tensorflow.python.estimator.canned.dnn.DNNRegressor at 0x7fa9bfdc4150>"
      ]
     },
     "execution_count": 30,
     "metadata": {},
     "output_type": "execute_result"
    }
   ],
   "source": [
    "regressor.train(input_fn=input_function, steps=1000)"
   ]
  },
  {
   "cell_type": "markdown",
   "metadata": {},
   "source": [
    "### Predicting on a new data"
   ]
  },
  {
   "cell_type": "code",
   "execution_count": 31,
   "metadata": {
    "collapsed": false
   },
   "outputs": [],
   "source": [
    "# Creating a  prediction input function.\n",
    "prediction_input_function = tf.estimator.inputs.pandas_input_fn(x=x_test, batch_size=100, num_epochs=1, shuffle=False)"
   ]
  },
  {
   "cell_type": "code",
   "execution_count": 35,
   "metadata": {
    "collapsed": true
   },
   "outputs": [],
   "source": [
    "# Predicting...\n",
    "prediction = regressor.predict(prediction_input_function)"
   ]
  },
  {
   "cell_type": "code",
   "execution_count": 37,
   "metadata": {
    "collapsed": false
   },
   "outputs": [
    {
     "name": "stdout",
     "output_type": "stream",
     "text": [
      "INFO:tensorflow:Restoring parameters from /tmp/tmpiLr1al/model.ckpt-1000\n"
     ]
    }
   ],
   "source": [
    "predictions = list(prediction)"
   ]
  },
  {
   "cell_type": "code",
   "execution_count": 38,
   "metadata": {
    "collapsed": false
   },
   "outputs": [
    {
     "data": {
      "text/plain": [
       "[{'predictions': array([ 11.57594967], dtype=float32)},\n",
       " {'predictions': array([ 12.92478275], dtype=float32)},\n",
       " {'predictions': array([ 32.62334442], dtype=float32)},\n",
       " {'predictions': array([ 10.49963665], dtype=float32)},\n",
       " {'predictions': array([ 15.66007233], dtype=float32)},\n",
       " {'predictions': array([ 27.60720634], dtype=float32)},\n",
       " {'predictions': array([ 19.98467827], dtype=float32)},\n",
       " {'predictions': array([ 12.38240051], dtype=float32)},\n",
       " {'predictions': array([ 12.70835972], dtype=float32)},\n",
       " {'predictions': array([ 7.99731684], dtype=float32)},\n",
       " {'predictions': array([ 12.26241016], dtype=float32)},\n",
       " {'predictions': array([ 19.18324471], dtype=float32)},\n",
       " {'predictions': array([ 19.62080765], dtype=float32)},\n",
       " {'predictions': array([ 27.62017822], dtype=float32)},\n",
       " {'predictions': array([ 14.51937866], dtype=float32)},\n",
       " {'predictions': array([ 33.4028244], dtype=float32)},\n",
       " {'predictions': array([ 23.23968506], dtype=float32)},\n",
       " {'predictions': array([ 28.34254646], dtype=float32)},\n",
       " {'predictions': array([ 12.59781933], dtype=float32)},\n",
       " {'predictions': array([ 11.74969387], dtype=float32)},\n",
       " {'predictions': array([ 21.32497406], dtype=float32)},\n",
       " {'predictions': array([ 12.38797665], dtype=float32)},\n",
       " {'predictions': array([ 11.45001125], dtype=float32)},\n",
       " {'predictions': array([ 14.81856346], dtype=float32)},\n",
       " {'predictions': array([ 27.49027824], dtype=float32)},\n",
       " {'predictions': array([ 17.6684227], dtype=float32)},\n",
       " {'predictions': array([ 13.98662472], dtype=float32)},\n",
       " {'predictions': array([ 29.0896244], dtype=float32)},\n",
       " {'predictions': array([ 29.05855942], dtype=float32)},\n",
       " {'predictions': array([ 11.63146305], dtype=float32)},\n",
       " {'predictions': array([ 15.02027321], dtype=float32)},\n",
       " {'predictions': array([ 16.36924744], dtype=float32)},\n",
       " {'predictions': array([ 13.37094498], dtype=float32)},\n",
       " {'predictions': array([ 29.88206673], dtype=float32)},\n",
       " {'predictions': array([ 14.82957363], dtype=float32)},\n",
       " {'predictions': array([ 31.53342628], dtype=float32)},\n",
       " {'predictions': array([ 16.63864136], dtype=float32)},\n",
       " {'predictions': array([ 10.60213661], dtype=float32)},\n",
       " {'predictions': array([ 15.16905022], dtype=float32)},\n",
       " {'predictions': array([ 15.55381107], dtype=float32)},\n",
       " {'predictions': array([ 14.30517578], dtype=float32)},\n",
       " {'predictions': array([ 8.43681908], dtype=float32)},\n",
       " {'predictions': array([ 10.25689411], dtype=float32)},\n",
       " {'predictions': array([ 22.51260757], dtype=float32)},\n",
       " {'predictions': array([ 11.75230217], dtype=float32)},\n",
       " {'predictions': array([ 19.27639008], dtype=float32)},\n",
       " {'predictions': array([ 12.09957027], dtype=float32)},\n",
       " {'predictions': array([ 11.97488308], dtype=float32)},\n",
       " {'predictions': array([ 21.52557182], dtype=float32)},\n",
       " {'predictions': array([ 39.34509277], dtype=float32)},\n",
       " {'predictions': array([ 11.43404961], dtype=float32)},\n",
       " {'predictions': array([ 10.86450481], dtype=float32)},\n",
       " {'predictions': array([ 10.04907703], dtype=float32)},\n",
       " {'predictions': array([ 24.47468376], dtype=float32)},\n",
       " {'predictions': array([ 11.11273289], dtype=float32)},\n",
       " {'predictions': array([ 17.60874367], dtype=float32)},\n",
       " {'predictions': array([ 11.6357193], dtype=float32)},\n",
       " {'predictions': array([ 18.89924049], dtype=float32)},\n",
       " {'predictions': array([ 11.48823357], dtype=float32)},\n",
       " {'predictions': array([ 24.08818626], dtype=float32)},\n",
       " {'predictions': array([ 15.60306358], dtype=float32)},\n",
       " {'predictions': array([ 16.35053062], dtype=float32)},\n",
       " {'predictions': array([ 11.34439659], dtype=float32)},\n",
       " {'predictions': array([ 20.55802345], dtype=float32)},\n",
       " {'predictions': array([ 30.30361557], dtype=float32)},\n",
       " {'predictions': array([ 29.45234299], dtype=float32)},\n",
       " {'predictions': array([ 12.21442509], dtype=float32)},\n",
       " {'predictions': array([ 30.7753582], dtype=float32)},\n",
       " {'predictions': array([ 19.6776619], dtype=float32)},\n",
       " {'predictions': array([ 11.39440536], dtype=float32)},\n",
       " {'predictions': array([ 10.75079346], dtype=float32)},\n",
       " {'predictions': array([ 13.81196117], dtype=float32)},\n",
       " {'predictions': array([ 12.44480419], dtype=float32)},\n",
       " {'predictions': array([ 12.33176136], dtype=float32)},\n",
       " {'predictions': array([ 13.63378716], dtype=float32)},\n",
       " {'predictions': array([ 10.88820553], dtype=float32)},\n",
       " {'predictions': array([ 13.64942741], dtype=float32)},\n",
       " {'predictions': array([ 11.83685589], dtype=float32)},\n",
       " {'predictions': array([ 25.2983036], dtype=float32)},\n",
       " {'predictions': array([ 20.59035873], dtype=float32)},\n",
       " {'predictions': array([ 11.4993372], dtype=float32)},\n",
       " {'predictions': array([ 19.97594261], dtype=float32)},\n",
       " {'predictions': array([ 11.17979145], dtype=float32)},\n",
       " {'predictions': array([ 10.86898518], dtype=float32)},\n",
       " {'predictions': array([ 14.15083885], dtype=float32)},\n",
       " {'predictions': array([ 10.42436504], dtype=float32)},\n",
       " {'predictions': array([ 19.62223434], dtype=float32)},\n",
       " {'predictions': array([ 12.6476965], dtype=float32)},\n",
       " {'predictions': array([ 15.32705784], dtype=float32)},\n",
       " {'predictions': array([ 13.54616642], dtype=float32)},\n",
       " {'predictions': array([ 12.99860668], dtype=float32)},\n",
       " {'predictions': array([ 26.18930054], dtype=float32)},\n",
       " {'predictions': array([ 31.7671299], dtype=float32)},\n",
       " {'predictions': array([ 23.02878761], dtype=float32)},\n",
       " {'predictions': array([ 13.79547882], dtype=float32)},\n",
       " {'predictions': array([ 16.05992126], dtype=float32)},\n",
       " {'predictions': array([ 13.16430473], dtype=float32)},\n",
       " {'predictions': array([ 15.60063839], dtype=float32)},\n",
       " {'predictions': array([ 24.96299934], dtype=float32)},\n",
       " {'predictions': array([ 16.12336349], dtype=float32)},\n",
       " {'predictions': array([ 10.58793354], dtype=float32)},\n",
       " {'predictions': array([ 22.21715546], dtype=float32)},\n",
       " {'predictions': array([ 10.92703342], dtype=float32)},\n",
       " {'predictions': array([ 9.9335928], dtype=float32)},\n",
       " {'predictions': array([ 11.30706978], dtype=float32)},\n",
       " {'predictions': array([ 11.39047337], dtype=float32)},\n",
       " {'predictions': array([ 11.07552814], dtype=float32)},\n",
       " {'predictions': array([ 18.83234978], dtype=float32)},\n",
       " {'predictions': array([ 43.89305115], dtype=float32)},\n",
       " {'predictions': array([ 13.18714046], dtype=float32)},\n",
       " {'predictions': array([ 11.38195324], dtype=float32)},\n",
       " {'predictions': array([ 10.8020916], dtype=float32)},\n",
       " {'predictions': array([ 10.25756073], dtype=float32)},\n",
       " {'predictions': array([ 11.04765224], dtype=float32)},\n",
       " {'predictions': array([ 12.05282307], dtype=float32)},\n",
       " {'predictions': array([ 26.67935753], dtype=float32)},\n",
       " {'predictions': array([ 12.87781429], dtype=float32)},\n",
       " {'predictions': array([ 17.22630882], dtype=float32)}]"
      ]
     },
     "execution_count": 38,
     "metadata": {},
     "output_type": "execute_result"
    }
   ],
   "source": [
    "predictions"
   ]
  },
  {
   "cell_type": "code",
   "execution_count": 39,
   "metadata": {
    "collapsed": true
   },
   "outputs": [],
   "source": [
    "pred = [p[\"predictions\"] for p in predictions]"
   ]
  },
  {
   "cell_type": "markdown",
   "metadata": {},
   "source": [
    "### Evaluating our regressor model using root_mean_square (RMSE) Should be ~0"
   ]
  },
  {
   "cell_type": "code",
   "execution_count": 40,
   "metadata": {
    "collapsed": true
   },
   "outputs": [],
   "source": [
    "from sklearn.metrics import mean_squared_error"
   ]
  },
  {
   "cell_type": "code",
   "execution_count": 41,
   "metadata": {
    "collapsed": false
   },
   "outputs": [
    {
     "data": {
      "text/plain": [
       "11.050326505460363"
      ]
     },
     "execution_count": 41,
     "metadata": {},
     "output_type": "execute_result"
    }
   ],
   "source": [
    "mean_squared_error(y_test, pred)**0.5"
   ]
  },
  {
   "cell_type": "markdown",
   "metadata": {},
   "source": [
    "# Done!"
   ]
  }
 ],
 "metadata": {
  "kernelspec": {
   "display_name": "Python 2",
   "language": "python",
   "name": "python2"
  },
  "language_info": {
   "codemirror_mode": {
    "name": "ipython",
    "version": 2
   },
   "file_extension": ".py",
   "mimetype": "text/x-python",
   "name": "python",
   "nbconvert_exporter": "python",
   "pygments_lexer": "ipython2",
   "version": "2.7.13"
  }
 },
 "nbformat": 4,
 "nbformat_minor": 2
}
