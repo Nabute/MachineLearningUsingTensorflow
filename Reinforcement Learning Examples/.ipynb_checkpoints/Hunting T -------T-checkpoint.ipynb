{
 "cells": [
  {
   "cell_type": "code",
   "execution_count": 1,
   "metadata": {
    "collapsed": true
   },
   "outputs": [],
   "source": [
    "# Importing modules\n",
    "import numpy as np\n",
    "import pandas as pd\n",
    "import time"
   ]
  },
  {
   "cell_type": "code",
   "execution_count": 2,
   "metadata": {
    "collapsed": true
   },
   "outputs": [],
   "source": [
    "np.random.seed(2)"
   ]
  },
  {
   "cell_type": "code",
   "execution_count": 3,
   "metadata": {
    "collapsed": true
   },
   "outputs": [],
   "source": [
    "#defining constant variables\n",
    "N_STATES = 6 # length of one dimensional world\n",
    "ACTIONS = ['left', 'right'] # posible actions or number of columns in Q-table\n",
    "EPSILON = 0.9 # greedy policy\n",
    "ALPHA = 0.1 # learning rate\n",
    "GAMMA = 0.9 # discount factor\n",
    "MAX_EPISODES = 13 # maximum episodes to train the agent\n",
    "FRESH_TIME = 0.3 # refrashing rate for one move"
   ]
  },
  {
   "cell_type": "code",
   "execution_count": 4,
   "metadata": {
    "collapsed": true
   },
   "outputs": [],
   "source": [
    "# A function to build the Q-table\n",
    "def buildQtable(n_states, actions):\n",
    "    Qtable = pd.DataFrame(\n",
    "            np.zeros((n_states, len(actions))), #initsializing table with zero value\n",
    "            columns= actions)\n",
    "    #print(Qtable)\n",
    "    return Qtable"
   ]
  },
  {
   "cell_type": "code",
   "execution_count": 6,
   "metadata": {
    "collapsed": true
   },
   "outputs": [],
   "source": [
    "# A function to choose an action to transit from one state to another\n",
    "def chooseAction(state, qTable):\n",
    "    stateActions = qTable.iloc[state, :]\n",
    "    # acting greedy or stateAction(Q value) has no value\n",
    "    if(np.random.uniform() > EPSILON) or (stateActions.all()==0):\n",
    "        return np.random.choice(ACTIONS)\n",
    "    # act greedy\n",
    "    return stateActions.argmax()"
   ]
  },
  {
   "cell_type": "code",
   "execution_count": 9,
   "metadata": {
    "collapsed": false
   },
   "outputs": [],
   "source": [
    "# A function to get enviroment feedback (EX. acts as a sonsor)\n",
    "def getEnvFeedback(s,a):\n",
    "    if a == 'right': # going to the right\n",
    "        if s == N_STATES - 2: # if it's at the terminal state\n",
    "            s_next = \"terminal\"\n",
    "            r = 1\n",
    "        else:\n",
    "            s_next = s + 1\n",
    "            r = 0\n",
    "    else: # goint to left\n",
    "        r = 0\n",
    "        if s == 0:\n",
    "            s_next = s # reached the wall or the most far state from the goal\n",
    "        else:\n",
    "            s_next = s -1\n",
    "    return s_next, r"
   ]
  },
  {
   "cell_type": "code",
   "execution_count": 10,
   "metadata": {
    "collapsed": true
   },
   "outputs": [],
   "source": [
    "# A function to update the Environment the agent in interating to\n",
    "# The enviroment is \"------T\"\n",
    "def updatEnv(s, episode, step_counter):\n",
    "    envList = [\"-\"]*(N_STATES-1) + [\"T\"]\n",
    "    if s == \"terminal\":\n",
    "        interaction = \"Episode %s: total steps = %s\"%(episode+1, step_counter)\n",
    "        print('\\r{}'.format(interaction))\n",
    "        time.sleep(2)\n",
    "        print(\"\\r\")\n",
    "    else:\n",
    "        envList[s] = '0'\n",
    "        interaction = ''.join(envList)\n",
    "        print('\\r{}'.format(interaction))\n",
    "        time.sleep(FRESH_TIME)"
   ]
  },
  {
   "cell_type": "code",
   "execution_count": 11,
   "metadata": {
    "collapsed": true
   },
   "outputs": [],
   "source": [
    "# A function that implements Q-learning algorithm\n",
    "def Q_Learning():\n",
    "    qTable = buildQtable(N_STATES, ACTIONS) # creating a new table\n",
    "    for episode in range(MAX_EPISODES):\n",
    "        stepCounter = 0\n",
    "        s = 0\n",
    "        terminated = False\n",
    "        updatEnv(s, episode, stepCounter) # updating Enviroment\n",
    "        while not terminated:\n",
    "            # take action and get next state, and reward\n",
    "            a = chooseAction(s, qTable)\n",
    "            s_next, r = getEnvFeedback(s, a)\n",
    "            q_predict = qTable.ix[s,a]\n",
    "            if s_next !=\"terminal\":  # if next state is not terminal\n",
    "                # implements the Q-Learning Algorithm\n",
    "                q_target = r + GAMMA*qTable.iloc[s_next, :].max()    \n",
    "            else:\n",
    "                q_target = r # if the next state is terminal\n",
    "                term)inated = True # terminate this episode\n",
    "            # update the Q-Table\n",
    "            qTable.ix[s, a] += ALPHA * (q_target - q_predict)\n",
    "            # move to the next state\n",
    "            s = s_next\n",
    "            updatEnv(s, episode, stepCounter+1)\n",
    "            stepCounter += 1\n",
    "    return qTable"
   ]
  },
  {
   "cell_type": "code",
   "execution_count": null,
   "metadata": {
    "collapsed": true
   },
   "outputs": [],
   "source": [
    "# main execution\n",
    "if __name__ == \"__main__\":\n",
    "    qTable = Q_Learning()\n",
    "    print('\\r\\n Q-Table: \\n')\n",
    "    print(qTable)"
   ]
  }
 ],
 "metadata": {
  "kernelspec": {
   "display_name": "Python 2",
   "language": "python",
   "name": "python2"
  },
  "language_info": {
   "codemirror_mode": {
    "name": "ipython",
    "version": 2
   },
   "file_extension": ".py",
   "mimetype": "text/x-python",
   "name": "python",
   "nbconvert_exporter": "python",
   "pygments_lexer": "ipython2",
   "version": "2.7.15"
  }
 },
 "nbformat": 4,
 "nbformat_minor": 2
}
